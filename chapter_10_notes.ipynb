{
 "cells": [
  {
   "cell_type": "markdown",
   "id": "c55973bd-4f4d-4f00-b76a-c809b71c6a94",
   "metadata": {},
   "source": [
    "## What is self-supervised learning?\n",
    "\n",
    "Self-supervised learning refers to a training process where the labels or information you need to predict the output is in the input data itself. For example if you are training a model to predict the next word of some text, you can give it a bunch of text so that it trains just on that data."
   ]
  },
  {
   "cell_type": "markdown",
   "id": "d4086588-3b4c-44f1-ae52-fdb1cba9d7a3",
   "metadata": {},
   "source": [
    "## What is a language model?\n",
    "\n",
    "A language model is a model that is trained to predict the next word."
   ]
  },
  {
   "cell_type": "markdown",
   "id": "2f9ff18e-e85c-4376-aad2-d1efd382218e",
   "metadata": {},
   "source": [
    "## Why is a language model considered to be self-supervised?\n",
    "\n",
    "Because to train it you just give it a bunch of unlabeled text."
   ]
  },
  {
   "cell_type": "markdown",
   "id": "5a7a6fcb-3177-43a8-80c4-62b91b180372",
   "metadata": {},
   "source": [
    "## What are self-supervised models usually used for?\n",
    "\n"
   ]
  },
  {
   "cell_type": "markdown",
   "id": "49c0ffe8-8833-4b5a-a67b-33cf451931dd",
   "metadata": {},
   "source": [
    "## Why do we fine-tune language models?"
   ]
  },
  {
   "cell_type": "markdown",
   "id": "bcdc543f-be50-4e82-8024-db974215e339",
   "metadata": {},
   "source": [
    "## What are the three steps to create a state-of-the-art text classifier?"
   ]
  },
  {
   "cell_type": "markdown",
   "id": "0eb1ff33-97fe-45f3-8264-b11df509d3b9",
   "metadata": {},
   "source": [
    "## How do the 50,000 unlabeled movie reviews help create a better text classifier for the IMDb dataset?"
   ]
  },
  {
   "cell_type": "markdown",
   "id": "e8402d97-263f-4999-a66e-6596a9ae43ce",
   "metadata": {},
   "source": [
    "## What are the three steps to prepare your data for a large language model?\n",
    "\n",
    "Tokenization, Positional Encoding, Embedding?"
   ]
  },
  {
   "cell_type": "markdown",
   "id": "4fd0a13a-90b7-4cec-ade4-97c8b2bf9aec",
   "metadata": {},
   "source": [
    "## What is tokenization? Why do we need it?"
   ]
  },
  {
   "cell_type": "markdown",
   "id": "5f036442-ae12-4613-a307-c4566bbf8286",
   "metadata": {},
   "source": [
    "## Name three approaches to tokenization"
   ]
  },
  {
   "cell_type": "markdown",
   "id": "4b94b9c2-81e7-4cf4-ad7b-c0dace22f088",
   "metadata": {},
   "source": [
    "## What is `xxbos`?"
   ]
  },
  {
   "cell_type": "markdown",
   "id": "645774f8-ab82-4c23-a898-b08a2ee5caca",
   "metadata": {},
   "source": [
    "## List four rules that fastai applies to text during tokenization."
   ]
  },
  {
   "cell_type": "markdown",
   "id": "b0c8cc88-5695-40f6-95ce-5452737bacc8",
   "metadata": {},
   "source": [
    "## Why are repeated characters replaced with a token showing the number of repititions and the character that's repeated?"
   ]
  },
  {
   "cell_type": "markdown",
   "id": "4f7021a5-c4f3-4e85-8481-4c7c09980e6a",
   "metadata": {},
   "source": [
    "## What is numericalization?"
   ]
  },
  {
   "cell_type": "markdown",
   "id": "656f7033-a10a-4e38-88b7-c41bb3b08aa2",
   "metadata": {},
   "source": [
    "## Why might there be words that are replaced with the \"unknown word\" token?"
   ]
  },
  {
   "cell_type": "markdown",
   "id": "ef95799f-ddb0-4ca0-acdf-1e59e30eba2b",
   "metadata": {},
   "source": [
    "## With a batch size of 64, the first row of the tensor representing the first batch contains the first 64 tokens for the dataset. What does the second row of that tensor contain? What does the first row of the second batch contain?"
   ]
  },
  {
   "cell_type": "markdown",
   "id": "92763bd0-3fe5-4efa-9772-cc6a4e3d483c",
   "metadata": {},
   "source": [
    "## Why do we need padding for text classification? Why don't we need it for language modeling?"
   ]
  },
  {
   "cell_type": "markdown",
   "id": "5c07bbdf-108f-4f33-8769-920f2c9b5416",
   "metadata": {},
   "source": [
    "## What does an embedding matrix for NLP contain? What is its shape?"
   ]
  },
  {
   "cell_type": "markdown",
   "id": "2f216a62-6386-43fb-9b16-6e89aab4dcc7",
   "metadata": {},
   "source": [
    "## What is perplexity?"
   ]
  },
  {
   "cell_type": "markdown",
   "id": "967e31df-b151-4bb0-b3c3-cbe44c57ce37",
   "metadata": {},
   "source": [
    "## Why do we have to pass the vocabulary of the language model to the classifier data block?"
   ]
  },
  {
   "cell_type": "markdown",
   "id": "ed3c2cd6-984f-4fd5-8966-d5124fa33f6e",
   "metadata": {},
   "source": [
    "## What is gradual unfreezing?"
   ]
  },
  {
   "cell_type": "markdown",
   "id": "e9b9da13-55a2-4d28-9db9-7c436c007684",
   "metadata": {},
   "source": [
    "## Why is text generation always likely to be ahead of automatic identification of machine-generated texts?"
   ]
  },
  {
   "cell_type": "markdown",
   "id": "510afab0-3e4b-427c-bf0d-ff079b7c39d3",
   "metadata": {},
   "source": [
    "## See what you can learn about language models and disinformation. What are the best language models today? Take a look at some of their outputs. Do you find them convincing? How could a bad actor best use such a model to create conflict and uncertainty?"
   ]
  },
  {
   "cell_type": "markdown",
   "id": "9e2c5846-bf4d-4b8d-b81c-17663a20136f",
   "metadata": {},
   "source": [
    "## Given the limitations that models are unlikely to be able to consistently recognize machine-generated texts, what other approaches may be needed to handle large-scale disinformation campaigns that leverage deep learning?"
   ]
  },
  {
   "cell_type": "markdown",
   "id": "4d52e18f-60ff-4ac8-99d9-e3766757853b",
   "metadata": {},
   "source": []
  }
 ],
 "metadata": {
  "kernelspec": {
   "display_name": "Python 3 (ipykernel)",
   "language": "python",
   "name": "python3"
  },
  "language_info": {
   "codemirror_mode": {
    "name": "ipython",
    "version": 3
   },
   "file_extension": ".py",
   "mimetype": "text/x-python",
   "name": "python",
   "nbconvert_exporter": "python",
   "pygments_lexer": "ipython3",
   "version": "3.10.12"
  }
 },
 "nbformat": 4,
 "nbformat_minor": 5
}
