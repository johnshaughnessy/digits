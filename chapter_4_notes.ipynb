{
 "cells": [
  {
   "cell_type": "markdown",
   "id": "d1ef3d7e-c6e7-467e-960c-3d344f2daaa5",
   "metadata": {},
   "source": [
    "# Chapter 4. Under the Hood: Training a Digit Classifier"
   ]
  },
  {
   "cell_type": "markdown",
   "id": "65523332-1242-4f21-ac2e-f4c5c243ed2b",
   "metadata": {},
   "source": [
    "- Arrays and Tensors\n",
    "- Broadcasting\n",
    "- SGD (Stochastic Gradient Descent)\n",
    "- Loss Function\n",
    "- Mini-Batches\n",
    "- Neural Network Math"
   ]
  },
  {
   "cell_type": "markdown",
   "id": "cd150173-008d-4375-be1e-331d2efdc95a",
   "metadata": {},
   "source": [
    "# Getting to know the MNIST digits data set"
   ]
  },
  {
   "cell_type": "code",
   "execution_count": 11,
   "id": "caa23d2a-b79d-448c-9add-0db177445729",
   "metadata": {},
   "outputs": [],
   "source": [
    "from fastai.vision.all import *\n",
    "path = untar_data(URLs.MNIST)"
   ]
  },
  {
   "cell_type": "code",
   "execution_count": 13,
   "id": "f08b121f-c5d7-461c-93a5-05361ad009d6",
   "metadata": {},
   "outputs": [
    {
     "data": {
      "text/plain": [
       "(#5923) [Path('/home/john/.fastai/data/mnist_png/training/0/28771.png'),Path('/home/john/.fastai/data/mnist_png/training/0/6883.png'),Path('/home/john/.fastai/data/mnist_png/training/0/36090.png'),Path('/home/john/.fastai/data/mnist_png/training/0/27567.png'),Path('/home/john/.fastai/data/mnist_png/training/0/57629.png'),Path('/home/john/.fastai/data/mnist_png/training/0/48542.png'),Path('/home/john/.fastai/data/mnist_png/training/0/42180.png'),Path('/home/john/.fastai/data/mnist_png/training/0/27200.png'),Path('/home/john/.fastai/data/mnist_png/training/0/33492.png'),Path('/home/john/.fastai/data/mnist_png/training/0/10750.png')...]"
      ]
     },
     "execution_count": 13,
     "metadata": {},
     "output_type": "execute_result"
    }
   ],
   "source": [
    "(path/'training/0').ls()"
   ]
  },
  {
   "cell_type": "code",
   "execution_count": 16,
   "id": "c4699fa1-1b59-4fd0-8286-07dca0d009ce",
   "metadata": {},
   "outputs": [
    {
     "data": {
      "image/jpeg": "[encoded data removed]",
      "image/png": "[encoded data removed]",
      "text/plain": [
       "<PIL.PngImagePlugin.PngImageFile image mode=L size=28x28>"
      ]
     },
     "execution_count": 16,
     "metadata": {},
     "output_type": "execute_result"
    }
   ],
   "source": [
    "Image.open(path/'training/0/6883.png')"
   ]
  },
  {
   "cell_type": "code",
   "execution_count": 17,
   "id": "de5cff37-a49d-4ad6-9c5d-c6e44fab1d31",
   "metadata": {},
   "outputs": [],
   "source": [
    "image = Image.open(path/'training/0/6883.png')"
   ]
  },
  {
   "cell_type": "code",
   "execution_count": 18,
   "id": "d4c34040-dec4-4b2b-84e3-be07a658971f",
   "metadata": {},
   "outputs": [
    {
     "data": {
      "image/jpeg": "[encoded data removed]",
      "image/png": "[encoded data removed]",
      "text/plain": [
       "<PIL.PngImagePlugin.PngImageFile image mode=L size=28x28>"
      ]
     },
     "execution_count": 18,
     "metadata": {},
     "output_type": "execute_result"
    }
   ],
   "source": [
    "image"
   ]
  },
  {
   "cell_type": "code",
   "execution_count": 20,
   "id": "13d064f5-d6a5-4197-8f6b-77d32ef727db",
   "metadata": {},
   "outputs": [],
   "source": [
    "image_tensor = tensor(image)"
   ]
  },
  {
   "cell_type": "code",
   "execution_count": 21,
   "id": "41de808c-ad46-4072-9d48-19ba2b668c4d",
   "metadata": {},
   "outputs": [],
   "source": [
    "path = untar_data(URLs.MNIST_SAMPLE)"
   ]
  },
  {
   "cell_type": "code",
   "execution_count": 22,
   "id": "bd28478a-cbe6-4703-800c-baf20926953f",
   "metadata": {},
   "outputs": [
    {
     "data": {
      "text/plain": [
       "(#3) [Path('/home/john/.fastai/data/mnist_sample/valid'),Path('/home/john/.fastai/data/mnist_sample/labels.csv'),Path('/home/john/.fastai/data/mnist_sample/train')]"
      ]
     },
     "execution_count": 22,
     "metadata": {},
     "output_type": "execute_result"
    }
   ],
   "source": [
    "path.ls()"
   ]
  },
  {
   "cell_type": "code",
   "execution_count": 23,
   "id": "9c160059-46a0-4a0b-83ae-f8d2f7320f86",
   "metadata": {},
   "outputs": [
    {
     "data": {
      "text/plain": [
       "(#2) [Path('/home/john/.fastai/data/mnist_sample/train/7'),Path('/home/john/.fastai/data/mnist_sample/train/3')]"
      ]
     },
     "execution_count": 23,
     "metadata": {},
     "output_type": "execute_result"
    }
   ],
   "source": [
    "(path/'train').ls()"
   ]
  },
  {
   "cell_type": "code",
   "execution_count": 24,
   "id": "1f2c0747-09fb-41f9-8a7e-c221e0ac1783",
   "metadata": {},
   "outputs": [
    {
     "data": {
      "text/plain": [
       "(#2) [Path('/home/john/.fastai/data/mnist_sample/train/7'),Path('/home/john/.fastai/data/mnist_sample/train/3')]"
      ]
     },
     "execution_count": 24,
     "metadata": {},
     "output_type": "execute_result"
    }
   ],
   "source": [
    "(path/'train').ls()"
   ]
  },
  {
   "cell_type": "code",
   "execution_count": 30,
   "id": "593486ae-55d2-428b-b709-5fe49d93a4af",
   "metadata": {},
   "outputs": [
    {
     "data": {
      "text/plain": [
       "(#6131) [Path('/home/john/.fastai/data/mnist_sample/train/3/10.png'),Path('/home/john/.fastai/data/mnist_sample/train/3/10000.png'),Path('/home/john/.fastai/data/mnist_sample/train/3/10011.png'),Path('/home/john/.fastai/data/mnist_sample/train/3/10031.png'),Path('/home/john/.fastai/data/mnist_sample/train/3/10034.png'),Path('/home/john/.fastai/data/mnist_sample/train/3/10042.png'),Path('/home/john/.fastai/data/mnist_sample/train/3/10052.png'),Path('/home/john/.fastai/data/mnist_sample/train/3/1007.png'),Path('/home/john/.fastai/data/mnist_sample/train/3/10074.png'),Path('/home/john/.fastai/data/mnist_sample/train/3/10091.png')...]"
      ]
     },
     "execution_count": 30,
     "metadata": {},
     "output_type": "execute_result"
    }
   ],
   "source": [
    "threes = (path/'train/3').ls().sorted()\n",
    "sevens = (path/'train/7').ls().sorted()\n",
    "threes"
   ]
  },
  {
   "cell_type": "code",
   "execution_count": 43,
   "id": "6786fd5b-7ce7-4c13-9213-b03c5a13fbe1",
   "metadata": {},
   "outputs": [
    {
     "data": {
      "image/jpeg": "[encoded data removed]",
      "image/png": "[encoded data removed]",
      "text/plain": [
       "<PIL.PngImagePlugin.PngImageFile image mode=L size=28x28>"
      ]
     },
     "execution_count": 43,
     "metadata": {},
     "output_type": "execute_result"
    }
   ],
   "source": [
    "im3_path = threes[1]\n",
    "im3 = Image.open(im3_path)\n",
    "im3"
   ]
  },
  {
   "cell_type": "code",
   "execution_count": 44,
   "id": "e790abcc-0ae4-4487-8e17-026299f705f4",
   "metadata": {},
   "outputs": [
    {
     "data": {
      "text/plain": [
       "tensor([[  0,   0,   0,   0,   0,   0],\n",
       "        [  0,   0,   0,   0,   0,  29],\n",
       "        [  0,   0,   0,  48, 166, 224],\n",
       "        [  0,  93, 244, 249, 253, 187],\n",
       "        [  0, 107, 253, 253, 230,  48],\n",
       "        [  0,   3,  20,  20,  15,   0]], dtype=torch.uint8)"
      ]
     },
     "execution_count": 44,
     "metadata": {},
     "output_type": "execute_result"
    }
   ],
   "source": [
    "tensor(im3)[4:10, 4:10]"
   ]
  },
  {
   "cell_type": "code",
   "execution_count": 160,
   "id": "f059bee7-fb5c-4bc0-a831-a2f4a21ed0b0",
   "metadata": {},
   "outputs": [
    {
     "data": {
      "text/plain": [
       "170"
      ]
     },
     "execution_count": 160,
     "metadata": {},
     "output_type": "execute_result"
    }
   ],
   "source": [
    "colors = ['Accent', 'Accent_r', 'Blues', 'Blues_r', 'BrBG', 'BrBG_r', 'BuGn', 'BuGn_r', 'BuPu', 'BuPu_r', 'CMRmap', 'CMRmap_r', 'Dark2', 'Dark2_r', 'GnBu', 'GnBu_r', 'Grays', 'Greens', 'Greens_r', 'Greys', 'Greys_r', 'OrRd', 'OrRd_r', 'Oranges', 'Oranges_r', 'PRGn', 'PRGn_r', 'Paired', 'Paired_r', 'Pastel1', 'Pastel1_r', 'Pastel2', 'Pastel2_r', 'PiYG', 'PiYG_r', 'PuBu', 'PuBuGn', 'PuBuGn_r', 'PuBu_r', 'PuOr', 'PuOr_r', 'PuRd', 'PuRd_r', 'Purples', 'Purples_r', 'RdBu', 'RdBu_r', 'RdGy', 'RdGy_r', 'RdPu', 'RdPu_r', 'RdYlBu', 'RdYlBu_r', 'RdYlGn', 'RdYlGn_r', 'Reds', 'Reds_r', 'Set1', 'Set1_r', 'Set2', 'Set2_r', 'Set3', 'Set3_r', 'Spectral', 'Spectral_r', 'Wistia', 'Wistia_r', 'YlGn', 'YlGnBu', 'YlGnBu_r', 'YlGn_r', 'YlOrBr', 'YlOrBr_r', 'YlOrRd', 'YlOrRd_r', 'afmhot', 'afmhot_r', 'autumn', 'autumn_r', 'binary', 'binary_r', 'bone', 'bone_r', 'brg', 'brg_r', 'bwr', 'bwr_r', 'cividis', 'cividis_r', 'cool', 'cool_r', 'coolwarm', 'coolwarm_r', 'copper', 'copper_r', 'cubehelix', 'cubehelix_r', 'flag', 'flag_r', 'gist_earth', 'gist_earth_r', 'gist_gray', 'gist_gray_r', 'gist_grey', 'gist_heat', 'gist_heat_r', 'gist_ncar', 'gist_ncar_r', 'gist_rainbow', 'gist_rainbow_r', 'gist_stern', 'gist_stern_r', 'gist_yarg', 'gist_yarg_r', 'gist_yerg', 'gnuplot', 'gnuplot2', 'gnuplot2_r', 'gnuplot_r', 'gray', 'gray_r', 'grey', 'hot', 'hot_r', 'hsv', 'hsv_r', 'inferno', 'inferno_r', 'jet', 'jet_r', 'magma', 'magma_r', 'nipy_spectral', 'nipy_spectral_r', 'ocean', 'ocean_r', 'pink', 'pink_r', 'plasma', 'plasma_r', 'prism', 'prism_r', 'rainbow', 'rainbow_r', 'seismic', 'seismic_r', 'spring', 'spring_r', 'summer', 'summer_r', 'tab10', 'tab10_r', 'tab20', 'tab20_r', 'tab20b', 'tab20b_r', 'tab20c', 'tab20c_r', 'terrain', 'terrain_r', 'turbo', 'turbo_r', 'twilight', 'twilight_r', 'twilight_shifted', 'twilight_shifted_r', 'viridis', 'viridis_r', 'winter', 'winter_r']\n",
    "len(colors)"
   ]
  },
  {
   "cell_type": "code",
   "execution_count": 80,
   "id": "2d8b17f4-edc6-40c5-8c6b-84f8fffa8b65",
   "metadata": {},
   "outputs": [
    {
     "data": {
      "text/html": [
       "<style type=\"text/css\">\n",
       "#T_e83e4_row0_col0, #T_e83e4_row0_col1, #T_e83e4_row0_col2, #T_e83e4_row0_col3, #T_e83e4_row0_col4, #T_e83e4_row0_col5, #T_e83e4_row0_col6, #T_e83e4_row0_col7, #T_e83e4_row0_col8, #T_e83e4_row0_col9, #T_e83e4_row0_col10, #T_e83e4_row0_col11, #T_e83e4_row0_col12, #T_e83e4_row0_col13, #T_e83e4_row0_col14, #T_e83e4_row0_col15, #T_e83e4_row0_col16, #T_e83e4_row0_col17, #T_e83e4_row1_col0, #T_e83e4_row1_col1, #T_e83e4_row1_col2, #T_e83e4_row1_col3, #T_e83e4_row1_col4, #T_e83e4_row1_col15, #T_e83e4_row1_col16, #T_e83e4_row1_col17, #T_e83e4_row2_col0, #T_e83e4_row2_col1, #T_e83e4_row2_col2, #T_e83e4_row2_col15, #T_e83e4_row2_col16, #T_e83e4_row2_col17, #T_e83e4_row3_col0, #T_e83e4_row3_col15, #T_e83e4_row3_col16, #T_e83e4_row3_col17, #T_e83e4_row4_col0, #T_e83e4_row4_col6, #T_e83e4_row4_col7, #T_e83e4_row4_col8, #T_e83e4_row4_col9, #T_e83e4_row4_col10, #T_e83e4_row4_col15, #T_e83e4_row4_col16, #T_e83e4_row4_col17, #T_e83e4_row5_col0, #T_e83e4_row5_col5, #T_e83e4_row5_col6, #T_e83e4_row5_col7, #T_e83e4_row5_col8, #T_e83e4_row5_col9, #T_e83e4_row5_col15, #T_e83e4_row5_col16, #T_e83e4_row5_col17, #T_e83e4_row6_col0, #T_e83e4_row6_col1, #T_e83e4_row6_col2, #T_e83e4_row6_col3, #T_e83e4_row6_col4, #T_e83e4_row6_col5, #T_e83e4_row6_col6, #T_e83e4_row6_col7, #T_e83e4_row6_col8, #T_e83e4_row6_col9, #T_e83e4_row6_col14, #T_e83e4_row6_col15, #T_e83e4_row6_col16, #T_e83e4_row6_col17, #T_e83e4_row7_col0, #T_e83e4_row7_col1, #T_e83e4_row7_col2, #T_e83e4_row7_col3, #T_e83e4_row7_col4, #T_e83e4_row7_col5, #T_e83e4_row7_col6, #T_e83e4_row7_col13, #T_e83e4_row7_col14, #T_e83e4_row7_col15, #T_e83e4_row7_col16, #T_e83e4_row7_col17, #T_e83e4_row8_col0, #T_e83e4_row8_col1, #T_e83e4_row8_col2, #T_e83e4_row8_col3, #T_e83e4_row8_col4, #T_e83e4_row8_col13, #T_e83e4_row8_col14, #T_e83e4_row8_col15, #T_e83e4_row8_col16, #T_e83e4_row8_col17, #T_e83e4_row9_col0, #T_e83e4_row9_col1, #T_e83e4_row9_col2, #T_e83e4_row9_col3, #T_e83e4_row9_col4, #T_e83e4_row9_col16, #T_e83e4_row9_col17, #T_e83e4_row10_col0, #T_e83e4_row10_col1, #T_e83e4_row10_col2, #T_e83e4_row10_col3, #T_e83e4_row10_col4, #T_e83e4_row10_col5, #T_e83e4_row10_col6, #T_e83e4_row10_col17, #T_e83e4_row11_col0, #T_e83e4_row11_col1, #T_e83e4_row11_col2, #T_e83e4_row11_col3, #T_e83e4_row11_col4, #T_e83e4_row11_col5, #T_e83e4_row11_col6, #T_e83e4_row11_col7, #T_e83e4_row11_col8, #T_e83e4_row11_col9, #T_e83e4_row11_col17, #T_e83e4_row12_col0, #T_e83e4_row12_col1, #T_e83e4_row12_col2, #T_e83e4_row12_col3, #T_e83e4_row12_col4, #T_e83e4_row12_col5, #T_e83e4_row12_col6, #T_e83e4_row12_col7, #T_e83e4_row12_col8, #T_e83e4_row12_col9, #T_e83e4_row12_col10, #T_e83e4_row12_col11, #T_e83e4_row12_col12, #T_e83e4_row12_col17, #T_e83e4_row13_col0, #T_e83e4_row13_col1, #T_e83e4_row13_col2, #T_e83e4_row13_col3, #T_e83e4_row13_col4, #T_e83e4_row13_col5, #T_e83e4_row13_col6, #T_e83e4_row13_col7, #T_e83e4_row13_col8, #T_e83e4_row13_col9, #T_e83e4_row13_col10, #T_e83e4_row13_col11, #T_e83e4_row13_col12, #T_e83e4_row13_col17, #T_e83e4_row14_col0, #T_e83e4_row14_col1, #T_e83e4_row14_col2, #T_e83e4_row14_col3, #T_e83e4_row14_col4, #T_e83e4_row14_col5, #T_e83e4_row14_col6, #T_e83e4_row14_col7, #T_e83e4_row14_col8, #T_e83e4_row14_col9, #T_e83e4_row14_col10, #T_e83e4_row14_col11, #T_e83e4_row14_col17, #T_e83e4_row15_col0, #T_e83e4_row15_col1, #T_e83e4_row15_col2, #T_e83e4_row15_col3, #T_e83e4_row15_col4, #T_e83e4_row15_col5, #T_e83e4_row15_col6, #T_e83e4_row15_col7, #T_e83e4_row15_col8, #T_e83e4_row15_col9, #T_e83e4_row15_col10, #T_e83e4_row15_col17, #T_e83e4_row16_col0, #T_e83e4_row16_col1, #T_e83e4_row16_col2, #T_e83e4_row16_col3, #T_e83e4_row16_col4, #T_e83e4_row16_col5, #T_e83e4_row16_col6, #T_e83e4_row16_col7, #T_e83e4_row16_col8, #T_e83e4_row16_col9, #T_e83e4_row16_col16, #T_e83e4_row16_col17, #T_e83e4_row17_col0, #T_e83e4_row17_col1, #T_e83e4_row17_col2, #T_e83e4_row17_col3, #T_e83e4_row17_col4, #T_e83e4_row17_col5, #T_e83e4_row17_col6, #T_e83e4_row17_col7, #T_e83e4_row17_col15, #T_e83e4_row17_col16, #T_e83e4_row17_col17, #T_e83e4_row18_col0, #T_e83e4_row18_col1, #T_e83e4_row18_col14, #T_e83e4_row18_col15, #T_e83e4_row18_col16, #T_e83e4_row18_col17, #T_e83e4_row19_col0, #T_e83e4_row19_col1, #T_e83e4_row19_col12, #T_e83e4_row19_col13, #T_e83e4_row19_col14, #T_e83e4_row19_col15, #T_e83e4_row19_col16, #T_e83e4_row19_col17, #T_e83e4_row20_col0, #T_e83e4_row20_col1, #T_e83e4_row20_col10, #T_e83e4_row20_col11, #T_e83e4_row20_col12, #T_e83e4_row20_col13, #T_e83e4_row20_col14, #T_e83e4_row20_col15, #T_e83e4_row20_col16, #T_e83e4_row20_col17, #T_e83e4_row21_col0, #T_e83e4_row21_col1, #T_e83e4_row21_col2, #T_e83e4_row21_col3, #T_e83e4_row21_col4, #T_e83e4_row21_col5, #T_e83e4_row21_col6, #T_e83e4_row21_col7, #T_e83e4_row21_col8, #T_e83e4_row21_col9, #T_e83e4_row21_col10, #T_e83e4_row21_col11, #T_e83e4_row21_col12, #T_e83e4_row21_col13, #T_e83e4_row21_col14, #T_e83e4_row21_col15, #T_e83e4_row21_col16, #T_e83e4_row21_col17 {\n",
       "  font-size: 10pt;\n",
       "  background-color: #ffffff;\n",
       "  color: #000000;\n",
       "}\n",
       "#T_e83e4_row1_col5, #T_e83e4_row8_col12 {\n",
       "  font-size: 10pt;\n",
       "  background-color: #f1f1f1;\n",
       "  color: #000000;\n",
       "}\n",
       "#T_e83e4_row1_col6, #T_e83e4_row1_col13 {\n",
       "  font-size: 10pt;\n",
       "  background-color: #7c7c7c;\n",
       "  color: #f1f1f1;\n",
       "}\n",
       "#T_e83e4_row1_col7 {\n",
       "  font-size: 10pt;\n",
       "  background-color: #4a4a4a;\n",
       "  color: #f1f1f1;\n",
       "}\n",
       "#T_e83e4_row1_col8, #T_e83e4_row1_col9, #T_e83e4_row1_col10, #T_e83e4_row2_col6, #T_e83e4_row2_col7, #T_e83e4_row2_col11, #T_e83e4_row2_col12, #T_e83e4_row2_col13, #T_e83e4_row3_col4, #T_e83e4_row3_col12, #T_e83e4_row3_col13, #T_e83e4_row4_col1, #T_e83e4_row4_col2, #T_e83e4_row4_col3, #T_e83e4_row4_col12, #T_e83e4_row4_col13, #T_e83e4_row5_col12, #T_e83e4_row6_col11, #T_e83e4_row9_col11, #T_e83e4_row10_col11, #T_e83e4_row10_col12, #T_e83e4_row10_col13, #T_e83e4_row10_col14, #T_e83e4_row11_col13, #T_e83e4_row11_col14, #T_e83e4_row11_col15, #T_e83e4_row12_col14, #T_e83e4_row12_col15, #T_e83e4_row12_col16, #T_e83e4_row13_col14, #T_e83e4_row13_col15, #T_e83e4_row14_col14, #T_e83e4_row14_col15, #T_e83e4_row15_col13, #T_e83e4_row15_col14, #T_e83e4_row16_col12, #T_e83e4_row16_col13, #T_e83e4_row17_col11, #T_e83e4_row17_col12, #T_e83e4_row19_col3, #T_e83e4_row19_col4, #T_e83e4_row19_col5, #T_e83e4_row19_col6, #T_e83e4_row19_col7, #T_e83e4_row20_col3, #T_e83e4_row20_col4, #T_e83e4_row20_col5, #T_e83e4_row20_col6, #T_e83e4_row20_col7 {\n",
       "  font-size: 10pt;\n",
       "  background-color: #000000;\n",
       "  color: #f1f1f1;\n",
       "}\n",
       "#T_e83e4_row1_col11 {\n",
       "  font-size: 10pt;\n",
       "  background-color: #606060;\n",
       "  color: #f1f1f1;\n",
       "}\n",
       "#T_e83e4_row1_col12 {\n",
       "  font-size: 10pt;\n",
       "  background-color: #4d4d4d;\n",
       "  color: #f1f1f1;\n",
       "}\n",
       "#T_e83e4_row1_col14 {\n",
       "  font-size: 10pt;\n",
       "  background-color: #bbbbbb;\n",
       "  color: #000000;\n",
       "}\n",
       "#T_e83e4_row2_col3, #T_e83e4_row4_col5 {\n",
       "  font-size: 10pt;\n",
       "  background-color: #e4e4e4;\n",
       "  color: #000000;\n",
       "}\n",
       "#T_e83e4_row2_col4, #T_e83e4_row8_col6 {\n",
       "  font-size: 10pt;\n",
       "  background-color: #6b6b6b;\n",
       "  color: #f1f1f1;\n",
       "}\n",
       "#T_e83e4_row2_col5, #T_e83e4_row5_col11 {\n",
       "  font-size: 10pt;\n",
       "  background-color: #222222;\n",
       "  color: #f1f1f1;\n",
       "}\n",
       "#T_e83e4_row2_col8, #T_e83e4_row2_col14, #T_e83e4_row3_col14, #T_e83e4_row17_col13 {\n",
       "  font-size: 10pt;\n",
       "  background-color: #171717;\n",
       "  color: #f1f1f1;\n",
       "}\n",
       "#T_e83e4_row2_col9, #T_e83e4_row3_col11 {\n",
       "  font-size: 10pt;\n",
       "  background-color: #4b4b4b;\n",
       "  color: #f1f1f1;\n",
       "}\n",
       "#T_e83e4_row2_col10, #T_e83e4_row7_col10, #T_e83e4_row8_col8, #T_e83e4_row8_col10, #T_e83e4_row9_col8, #T_e83e4_row9_col10, #T_e83e4_row18_col10, #T_e83e4_row19_col8 {\n",
       "  font-size: 10pt;\n",
       "  background-color: #010101;\n",
       "  color: #f1f1f1;\n",
       "}\n",
       "#T_e83e4_row3_col1 {\n",
       "  font-size: 10pt;\n",
       "  background-color: #272727;\n",
       "  color: #f1f1f1;\n",
       "}\n",
       "#T_e83e4_row3_col2 {\n",
       "  font-size: 10pt;\n",
       "  background-color: #0a0a0a;\n",
       "  color: #f1f1f1;\n",
       "}\n",
       "#T_e83e4_row3_col3, #T_e83e4_row14_col13 {\n",
       "  font-size: 10pt;\n",
       "  background-color: #050505;\n",
       "  color: #f1f1f1;\n",
       "}\n",
       "#T_e83e4_row3_col5, #T_e83e4_row8_col11, #T_e83e4_row10_col15, #T_e83e4_row19_col2 {\n",
       "  font-size: 10pt;\n",
       "  background-color: #545454;\n",
       "  color: #f1f1f1;\n",
       "}\n",
       "#T_e83e4_row3_col6 {\n",
       "  font-size: 10pt;\n",
       "  background-color: #e6e6e6;\n",
       "  color: #000000;\n",
       "}\n",
       "#T_e83e4_row3_col7, #T_e83e4_row3_col10, #T_e83e4_row8_col5 {\n",
       "  font-size: 10pt;\n",
       "  background-color: #fafafa;\n",
       "  color: #000000;\n",
       "}\n",
       "#T_e83e4_row3_col8, #T_e83e4_row11_col10, #T_e83e4_row16_col15 {\n",
       "  font-size: 10pt;\n",
       "  background-color: #fbfbfb;\n",
       "  color: #000000;\n",
       "}\n",
       "#T_e83e4_row3_col9 {\n",
       "  font-size: 10pt;\n",
       "  background-color: #fdfdfd;\n",
       "  color: #000000;\n",
       "}\n",
       "#T_e83e4_row4_col4 {\n",
       "  font-size: 10pt;\n",
       "  background-color: #1b1b1b;\n",
       "  color: #f1f1f1;\n",
       "}\n",
       "#T_e83e4_row4_col11 {\n",
       "  font-size: 10pt;\n",
       "  background-color: #4e4e4e;\n",
       "  color: #f1f1f1;\n",
       "}\n",
       "#T_e83e4_row4_col14 {\n",
       "  font-size: 10pt;\n",
       "  background-color: #767676;\n",
       "  color: #f1f1f1;\n",
       "}\n",
       "#T_e83e4_row5_col1 {\n",
       "  font-size: 10pt;\n",
       "  background-color: #fcfcfc;\n",
       "  color: #000000;\n",
       "}\n",
       "#T_e83e4_row5_col2, #T_e83e4_row5_col3, #T_e83e4_row15_col16 {\n",
       "  font-size: 10pt;\n",
       "  background-color: #f6f6f6;\n",
       "  color: #000000;\n",
       "}\n",
       "#T_e83e4_row5_col4, #T_e83e4_row7_col7 {\n",
       "  font-size: 10pt;\n",
       "  background-color: #f8f8f8;\n",
       "  color: #000000;\n",
       "}\n",
       "#T_e83e4_row5_col10, #T_e83e4_row10_col7 {\n",
       "  font-size: 10pt;\n",
       "  background-color: #e8e8e8;\n",
       "  color: #000000;\n",
       "}\n",
       "#T_e83e4_row5_col13, #T_e83e4_row6_col12 {\n",
       "  font-size: 10pt;\n",
       "  background-color: #090909;\n",
       "  color: #f1f1f1;\n",
       "}\n",
       "#T_e83e4_row5_col14 {\n",
       "  font-size: 10pt;\n",
       "  background-color: #d0d0d0;\n",
       "  color: #000000;\n",
       "}\n",
       "#T_e83e4_row6_col10, #T_e83e4_row7_col11, #T_e83e4_row9_col6 {\n",
       "  font-size: 10pt;\n",
       "  background-color: #060606;\n",
       "  color: #f1f1f1;\n",
       "}\n",
       "#T_e83e4_row6_col13 {\n",
       "  font-size: 10pt;\n",
       "  background-color: #979797;\n",
       "  color: #f1f1f1;\n",
       "}\n",
       "#T_e83e4_row7_col8 {\n",
       "  font-size: 10pt;\n",
       "  background-color: #b6b6b6;\n",
       "  color: #000000;\n",
       "}\n",
       "#T_e83e4_row7_col9 {\n",
       "  font-size: 10pt;\n",
       "  background-color: #252525;\n",
       "  color: #f1f1f1;\n",
       "}\n",
       "#T_e83e4_row7_col12 {\n",
       "  font-size: 10pt;\n",
       "  background-color: #999999;\n",
       "  color: #f1f1f1;\n",
       "}\n",
       "#T_e83e4_row8_col7, #T_e83e4_row18_col8 {\n",
       "  font-size: 10pt;\n",
       "  background-color: #101010;\n",
       "  color: #f1f1f1;\n",
       "}\n",
       "#T_e83e4_row8_col9, #T_e83e4_row9_col9, #T_e83e4_row17_col10, #T_e83e4_row18_col9, #T_e83e4_row19_col9 {\n",
       "  font-size: 10pt;\n",
       "  background-color: #020202;\n",
       "  color: #f1f1f1;\n",
       "}\n",
       "#T_e83e4_row9_col5 {\n",
       "  font-size: 10pt;\n",
       "  background-color: #f7f7f7;\n",
       "  color: #000000;\n",
       "}\n",
       "#T_e83e4_row9_col7, #T_e83e4_row18_col11 {\n",
       "  font-size: 10pt;\n",
       "  background-color: #030303;\n",
       "  color: #f1f1f1;\n",
       "}\n",
       "#T_e83e4_row9_col12 {\n",
       "  font-size: 10pt;\n",
       "  background-color: #181818;\n",
       "  color: #f1f1f1;\n",
       "}\n",
       "#T_e83e4_row9_col13 {\n",
       "  font-size: 10pt;\n",
       "  background-color: #303030;\n",
       "  color: #f1f1f1;\n",
       "}\n",
       "#T_e83e4_row9_col14 {\n",
       "  font-size: 10pt;\n",
       "  background-color: #a9a9a9;\n",
       "  color: #f1f1f1;\n",
       "}\n",
       "#T_e83e4_row9_col15 {\n",
       "  font-size: 10pt;\n",
       "  background-color: #fefefe;\n",
       "  color: #000000;\n",
       "}\n",
       "#T_e83e4_row10_col8, #T_e83e4_row10_col9, #T_e83e4_row16_col10 {\n",
       "  font-size: 10pt;\n",
       "  background-color: #bababa;\n",
       "  color: #000000;\n",
       "}\n",
       "#T_e83e4_row10_col10 {\n",
       "  font-size: 10pt;\n",
       "  background-color: #393939;\n",
       "  color: #f1f1f1;\n",
       "}\n",
       "#T_e83e4_row10_col16 {\n",
       "  font-size: 10pt;\n",
       "  background-color: #eaeaea;\n",
       "  color: #000000;\n",
       "}\n",
       "#T_e83e4_row11_col11 {\n",
       "  font-size: 10pt;\n",
       "  background-color: #e2e2e2;\n",
       "  color: #000000;\n",
       "}\n",
       "#T_e83e4_row11_col12 {\n",
       "  font-size: 10pt;\n",
       "  background-color: #9f9f9f;\n",
       "  color: #f1f1f1;\n",
       "}\n",
       "#T_e83e4_row11_col16 {\n",
       "  font-size: 10pt;\n",
       "  background-color: #898989;\n",
       "  color: #f1f1f1;\n",
       "}\n",
       "#T_e83e4_row12_col13 {\n",
       "  font-size: 10pt;\n",
       "  background-color: #585858;\n",
       "  color: #f1f1f1;\n",
       "}\n",
       "#T_e83e4_row13_col13 {\n",
       "  font-size: 10pt;\n",
       "  background-color: #5a5a5a;\n",
       "  color: #f1f1f1;\n",
       "}\n",
       "#T_e83e4_row13_col16 {\n",
       "  font-size: 10pt;\n",
       "  background-color: #525252;\n",
       "  color: #f1f1f1;\n",
       "}\n",
       "#T_e83e4_row14_col12, #T_e83e4_row19_col11 {\n",
       "  font-size: 10pt;\n",
       "  background-color: #c5c5c5;\n",
       "  color: #000000;\n",
       "}\n",
       "#T_e83e4_row14_col16 {\n",
       "  font-size: 10pt;\n",
       "  background-color: #d7d7d7;\n",
       "  color: #000000;\n",
       "}\n",
       "#T_e83e4_row15_col11, #T_e83e4_row18_col5 {\n",
       "  font-size: 10pt;\n",
       "  background-color: #dcdcdc;\n",
       "  color: #000000;\n",
       "}\n",
       "#T_e83e4_row15_col12 {\n",
       "  font-size: 10pt;\n",
       "  background-color: #2f2f2f;\n",
       "  color: #f1f1f1;\n",
       "}\n",
       "#T_e83e4_row15_col15 {\n",
       "  font-size: 10pt;\n",
       "  background-color: #636363;\n",
       "  color: #f1f1f1;\n",
       "}\n",
       "#T_e83e4_row16_col11 {\n",
       "  font-size: 10pt;\n",
       "  background-color: #070707;\n",
       "  color: #f1f1f1;\n",
       "}\n",
       "#T_e83e4_row16_col14 {\n",
       "  font-size: 10pt;\n",
       "  background-color: #1f1f1f;\n",
       "  color: #f1f1f1;\n",
       "}\n",
       "#T_e83e4_row17_col8, #T_e83e4_row18_col2, #T_e83e4_row18_col4 {\n",
       "  font-size: 10pt;\n",
       "  background-color: #e9e9e9;\n",
       "  color: #000000;\n",
       "}\n",
       "#T_e83e4_row17_col9 {\n",
       "  font-size: 10pt;\n",
       "  background-color: #7d7d7d;\n",
       "  color: #f1f1f1;\n",
       "}\n",
       "#T_e83e4_row17_col14 {\n",
       "  font-size: 10pt;\n",
       "  background-color: #e1e1e1;\n",
       "  color: #000000;\n",
       "}\n",
       "#T_e83e4_row18_col3, #T_e83e4_row18_col6 {\n",
       "  font-size: 10pt;\n",
       "  background-color: #a4a4a4;\n",
       "  color: #f1f1f1;\n",
       "}\n",
       "#T_e83e4_row18_col7 {\n",
       "  font-size: 10pt;\n",
       "  background-color: #727272;\n",
       "  color: #f1f1f1;\n",
       "}\n",
       "#T_e83e4_row18_col12 {\n",
       "  font-size: 10pt;\n",
       "  background-color: #616161;\n",
       "  color: #f1f1f1;\n",
       "}\n",
       "#T_e83e4_row18_col13 {\n",
       "  font-size: 10pt;\n",
       "  background-color: #f3f3f3;\n",
       "  color: #000000;\n",
       "}\n",
       "#T_e83e4_row19_col10 {\n",
       "  font-size: 10pt;\n",
       "  background-color: #484848;\n",
       "  color: #f1f1f1;\n",
       "}\n",
       "#T_e83e4_row20_col2 {\n",
       "  font-size: 10pt;\n",
       "  background-color: #b3b3b3;\n",
       "  color: #000000;\n",
       "}\n",
       "#T_e83e4_row20_col8 {\n",
       "  font-size: 10pt;\n",
       "  background-color: #1a1a1a;\n",
       "  color: #f1f1f1;\n",
       "}\n",
       "#T_e83e4_row20_col9 {\n",
       "  font-size: 10pt;\n",
       "  background-color: #d6d6d6;\n",
       "  color: #000000;\n",
       "}\n",
       "</style>\n",
       "<table id=\"T_e83e4\">\n",
       "  <thead>\n",
       "    <tr>\n",
       "      <th class=\"blank level0\" >&nbsp;</th>\n",
       "      <th id=\"T_e83e4_level0_col0\" class=\"col_heading level0 col0\" >0</th>\n",
       "      <th id=\"T_e83e4_level0_col1\" class=\"col_heading level0 col1\" >1</th>\n",
       "      <th id=\"T_e83e4_level0_col2\" class=\"col_heading level0 col2\" >2</th>\n",
       "      <th id=\"T_e83e4_level0_col3\" class=\"col_heading level0 col3\" >3</th>\n",
       "      <th id=\"T_e83e4_level0_col4\" class=\"col_heading level0 col4\" >4</th>\n",
       "      <th id=\"T_e83e4_level0_col5\" class=\"col_heading level0 col5\" >5</th>\n",
       "      <th id=\"T_e83e4_level0_col6\" class=\"col_heading level0 col6\" >6</th>\n",
       "      <th id=\"T_e83e4_level0_col7\" class=\"col_heading level0 col7\" >7</th>\n",
       "      <th id=\"T_e83e4_level0_col8\" class=\"col_heading level0 col8\" >8</th>\n",
       "      <th id=\"T_e83e4_level0_col9\" class=\"col_heading level0 col9\" >9</th>\n",
       "      <th id=\"T_e83e4_level0_col10\" class=\"col_heading level0 col10\" >10</th>\n",
       "      <th id=\"T_e83e4_level0_col11\" class=\"col_heading level0 col11\" >11</th>\n",
       "      <th id=\"T_e83e4_level0_col12\" class=\"col_heading level0 col12\" >12</th>\n",
       "      <th id=\"T_e83e4_level0_col13\" class=\"col_heading level0 col13\" >13</th>\n",
       "      <th id=\"T_e83e4_level0_col14\" class=\"col_heading level0 col14\" >14</th>\n",
       "      <th id=\"T_e83e4_level0_col15\" class=\"col_heading level0 col15\" >15</th>\n",
       "      <th id=\"T_e83e4_level0_col16\" class=\"col_heading level0 col16\" >16</th>\n",
       "      <th id=\"T_e83e4_level0_col17\" class=\"col_heading level0 col17\" >17</th>\n",
       "    </tr>\n",
       "  </thead>\n",
       "  <tbody>\n",
       "    <tr>\n",
       "      <th id=\"T_e83e4_level0_row0\" class=\"row_heading level0 row0\" >0</th>\n",
       "      <td id=\"T_e83e4_row0_col0\" class=\"data row0 col0\" >0</td>\n",
       "      <td id=\"T_e83e4_row0_col1\" class=\"data row0 col1\" >0</td>\n",
       "      <td id=\"T_e83e4_row0_col2\" class=\"data row0 col2\" >0</td>\n",
       "      <td id=\"T_e83e4_row0_col3\" class=\"data row0 col3\" >0</td>\n",
       "      <td id=\"T_e83e4_row0_col4\" class=\"data row0 col4\" >0</td>\n",
       "      <td id=\"T_e83e4_row0_col5\" class=\"data row0 col5\" >0</td>\n",
       "      <td id=\"T_e83e4_row0_col6\" class=\"data row0 col6\" >0</td>\n",
       "      <td id=\"T_e83e4_row0_col7\" class=\"data row0 col7\" >0</td>\n",
       "      <td id=\"T_e83e4_row0_col8\" class=\"data row0 col8\" >0</td>\n",
       "      <td id=\"T_e83e4_row0_col9\" class=\"data row0 col9\" >0</td>\n",
       "      <td id=\"T_e83e4_row0_col10\" class=\"data row0 col10\" >0</td>\n",
       "      <td id=\"T_e83e4_row0_col11\" class=\"data row0 col11\" >0</td>\n",
       "      <td id=\"T_e83e4_row0_col12\" class=\"data row0 col12\" >0</td>\n",
       "      <td id=\"T_e83e4_row0_col13\" class=\"data row0 col13\" >0</td>\n",
       "      <td id=\"T_e83e4_row0_col14\" class=\"data row0 col14\" >0</td>\n",
       "      <td id=\"T_e83e4_row0_col15\" class=\"data row0 col15\" >0</td>\n",
       "      <td id=\"T_e83e4_row0_col16\" class=\"data row0 col16\" >0</td>\n",
       "      <td id=\"T_e83e4_row0_col17\" class=\"data row0 col17\" >0</td>\n",
       "    </tr>\n",
       "    <tr>\n",
       "      <th id=\"T_e83e4_level0_row1\" class=\"row_heading level0 row1\" >1</th>\n",
       "      <td id=\"T_e83e4_row1_col0\" class=\"data row1 col0\" >0</td>\n",
       "      <td id=\"T_e83e4_row1_col1\" class=\"data row1 col1\" >0</td>\n",
       "      <td id=\"T_e83e4_row1_col2\" class=\"data row1 col2\" >0</td>\n",
       "      <td id=\"T_e83e4_row1_col3\" class=\"data row1 col3\" >0</td>\n",
       "      <td id=\"T_e83e4_row1_col4\" class=\"data row1 col4\" >0</td>\n",
       "      <td id=\"T_e83e4_row1_col5\" class=\"data row1 col5\" >29</td>\n",
       "      <td id=\"T_e83e4_row1_col6\" class=\"data row1 col6\" >150</td>\n",
       "      <td id=\"T_e83e4_row1_col7\" class=\"data row1 col7\" >195</td>\n",
       "      <td id=\"T_e83e4_row1_col8\" class=\"data row1 col8\" >254</td>\n",
       "      <td id=\"T_e83e4_row1_col9\" class=\"data row1 col9\" >255</td>\n",
       "      <td id=\"T_e83e4_row1_col10\" class=\"data row1 col10\" >254</td>\n",
       "      <td id=\"T_e83e4_row1_col11\" class=\"data row1 col11\" >176</td>\n",
       "      <td id=\"T_e83e4_row1_col12\" class=\"data row1 col12\" >193</td>\n",
       "      <td id=\"T_e83e4_row1_col13\" class=\"data row1 col13\" >150</td>\n",
       "      <td id=\"T_e83e4_row1_col14\" class=\"data row1 col14\" >96</td>\n",
       "      <td id=\"T_e83e4_row1_col15\" class=\"data row1 col15\" >0</td>\n",
       "      <td id=\"T_e83e4_row1_col16\" class=\"data row1 col16\" >0</td>\n",
       "      <td id=\"T_e83e4_row1_col17\" class=\"data row1 col17\" >0</td>\n",
       "    </tr>\n",
       "    <tr>\n",
       "      <th id=\"T_e83e4_level0_row2\" class=\"row_heading level0 row2\" >2</th>\n",
       "      <td id=\"T_e83e4_row2_col0\" class=\"data row2 col0\" >0</td>\n",
       "      <td id=\"T_e83e4_row2_col1\" class=\"data row2 col1\" >0</td>\n",
       "      <td id=\"T_e83e4_row2_col2\" class=\"data row2 col2\" >0</td>\n",
       "      <td id=\"T_e83e4_row2_col3\" class=\"data row2 col3\" >48</td>\n",
       "      <td id=\"T_e83e4_row2_col4\" class=\"data row2 col4\" >166</td>\n",
       "      <td id=\"T_e83e4_row2_col5\" class=\"data row2 col5\" >224</td>\n",
       "      <td id=\"T_e83e4_row2_col6\" class=\"data row2 col6\" >253</td>\n",
       "      <td id=\"T_e83e4_row2_col7\" class=\"data row2 col7\" >253</td>\n",
       "      <td id=\"T_e83e4_row2_col8\" class=\"data row2 col8\" >234</td>\n",
       "      <td id=\"T_e83e4_row2_col9\" class=\"data row2 col9\" >196</td>\n",
       "      <td id=\"T_e83e4_row2_col10\" class=\"data row2 col10\" >253</td>\n",
       "      <td id=\"T_e83e4_row2_col11\" class=\"data row2 col11\" >253</td>\n",
       "      <td id=\"T_e83e4_row2_col12\" class=\"data row2 col12\" >253</td>\n",
       "      <td id=\"T_e83e4_row2_col13\" class=\"data row2 col13\" >253</td>\n",
       "      <td id=\"T_e83e4_row2_col14\" class=\"data row2 col14\" >233</td>\n",
       "      <td id=\"T_e83e4_row2_col15\" class=\"data row2 col15\" >0</td>\n",
       "      <td id=\"T_e83e4_row2_col16\" class=\"data row2 col16\" >0</td>\n",
       "      <td id=\"T_e83e4_row2_col17\" class=\"data row2 col17\" >0</td>\n",
       "    </tr>\n",
       "    <tr>\n",
       "      <th id=\"T_e83e4_level0_row3\" class=\"row_heading level0 row3\" >3</th>\n",
       "      <td id=\"T_e83e4_row3_col0\" class=\"data row3 col0\" >0</td>\n",
       "      <td id=\"T_e83e4_row3_col1\" class=\"data row3 col1\" >93</td>\n",
       "      <td id=\"T_e83e4_row3_col2\" class=\"data row3 col2\" >244</td>\n",
       "      <td id=\"T_e83e4_row3_col3\" class=\"data row3 col3\" >249</td>\n",
       "      <td id=\"T_e83e4_row3_col4\" class=\"data row3 col4\" >253</td>\n",
       "      <td id=\"T_e83e4_row3_col5\" class=\"data row3 col5\" >187</td>\n",
       "      <td id=\"T_e83e4_row3_col6\" class=\"data row3 col6\" >46</td>\n",
       "      <td id=\"T_e83e4_row3_col7\" class=\"data row3 col7\" >10</td>\n",
       "      <td id=\"T_e83e4_row3_col8\" class=\"data row3 col8\" >8</td>\n",
       "      <td id=\"T_e83e4_row3_col9\" class=\"data row3 col9\" >4</td>\n",
       "      <td id=\"T_e83e4_row3_col10\" class=\"data row3 col10\" >10</td>\n",
       "      <td id=\"T_e83e4_row3_col11\" class=\"data row3 col11\" >194</td>\n",
       "      <td id=\"T_e83e4_row3_col12\" class=\"data row3 col12\" >253</td>\n",
       "      <td id=\"T_e83e4_row3_col13\" class=\"data row3 col13\" >253</td>\n",
       "      <td id=\"T_e83e4_row3_col14\" class=\"data row3 col14\" >233</td>\n",
       "      <td id=\"T_e83e4_row3_col15\" class=\"data row3 col15\" >0</td>\n",
       "      <td id=\"T_e83e4_row3_col16\" class=\"data row3 col16\" >0</td>\n",
       "      <td id=\"T_e83e4_row3_col17\" class=\"data row3 col17\" >0</td>\n",
       "    </tr>\n",
       "    <tr>\n",
       "      <th id=\"T_e83e4_level0_row4\" class=\"row_heading level0 row4\" >4</th>\n",
       "      <td id=\"T_e83e4_row4_col0\" class=\"data row4 col0\" >0</td>\n",
       "      <td id=\"T_e83e4_row4_col1\" class=\"data row4 col1\" >107</td>\n",
       "      <td id=\"T_e83e4_row4_col2\" class=\"data row4 col2\" >253</td>\n",
       "      <td id=\"T_e83e4_row4_col3\" class=\"data row4 col3\" >253</td>\n",
       "      <td id=\"T_e83e4_row4_col4\" class=\"data row4 col4\" >230</td>\n",
       "      <td id=\"T_e83e4_row4_col5\" class=\"data row4 col5\" >48</td>\n",
       "      <td id=\"T_e83e4_row4_col6\" class=\"data row4 col6\" >0</td>\n",
       "      <td id=\"T_e83e4_row4_col7\" class=\"data row4 col7\" >0</td>\n",
       "      <td id=\"T_e83e4_row4_col8\" class=\"data row4 col8\" >0</td>\n",
       "      <td id=\"T_e83e4_row4_col9\" class=\"data row4 col9\" >0</td>\n",
       "      <td id=\"T_e83e4_row4_col10\" class=\"data row4 col10\" >0</td>\n",
       "      <td id=\"T_e83e4_row4_col11\" class=\"data row4 col11\" >192</td>\n",
       "      <td id=\"T_e83e4_row4_col12\" class=\"data row4 col12\" >253</td>\n",
       "      <td id=\"T_e83e4_row4_col13\" class=\"data row4 col13\" >253</td>\n",
       "      <td id=\"T_e83e4_row4_col14\" class=\"data row4 col14\" >156</td>\n",
       "      <td id=\"T_e83e4_row4_col15\" class=\"data row4 col15\" >0</td>\n",
       "      <td id=\"T_e83e4_row4_col16\" class=\"data row4 col16\" >0</td>\n",
       "      <td id=\"T_e83e4_row4_col17\" class=\"data row4 col17\" >0</td>\n",
       "    </tr>\n",
       "    <tr>\n",
       "      <th id=\"T_e83e4_level0_row5\" class=\"row_heading level0 row5\" >5</th>\n",
       "      <td id=\"T_e83e4_row5_col0\" class=\"data row5 col0\" >0</td>\n",
       "      <td id=\"T_e83e4_row5_col1\" class=\"data row5 col1\" >3</td>\n",
       "      <td id=\"T_e83e4_row5_col2\" class=\"data row5 col2\" >20</td>\n",
       "      <td id=\"T_e83e4_row5_col3\" class=\"data row5 col3\" >20</td>\n",
       "      <td id=\"T_e83e4_row5_col4\" class=\"data row5 col4\" >15</td>\n",
       "      <td id=\"T_e83e4_row5_col5\" class=\"data row5 col5\" >0</td>\n",
       "      <td id=\"T_e83e4_row5_col6\" class=\"data row5 col6\" >0</td>\n",
       "      <td id=\"T_e83e4_row5_col7\" class=\"data row5 col7\" >0</td>\n",
       "      <td id=\"T_e83e4_row5_col8\" class=\"data row5 col8\" >0</td>\n",
       "      <td id=\"T_e83e4_row5_col9\" class=\"data row5 col9\" >0</td>\n",
       "      <td id=\"T_e83e4_row5_col10\" class=\"data row5 col10\" >43</td>\n",
       "      <td id=\"T_e83e4_row5_col11\" class=\"data row5 col11\" >224</td>\n",
       "      <td id=\"T_e83e4_row5_col12\" class=\"data row5 col12\" >253</td>\n",
       "      <td id=\"T_e83e4_row5_col13\" class=\"data row5 col13\" >245</td>\n",
       "      <td id=\"T_e83e4_row5_col14\" class=\"data row5 col14\" >74</td>\n",
       "      <td id=\"T_e83e4_row5_col15\" class=\"data row5 col15\" >0</td>\n",
       "      <td id=\"T_e83e4_row5_col16\" class=\"data row5 col16\" >0</td>\n",
       "      <td id=\"T_e83e4_row5_col17\" class=\"data row5 col17\" >0</td>\n",
       "    </tr>\n",
       "    <tr>\n",
       "      <th id=\"T_e83e4_level0_row6\" class=\"row_heading level0 row6\" >6</th>\n",
       "      <td id=\"T_e83e4_row6_col0\" class=\"data row6 col0\" >0</td>\n",
       "      <td id=\"T_e83e4_row6_col1\" class=\"data row6 col1\" >0</td>\n",
       "      <td id=\"T_e83e4_row6_col2\" class=\"data row6 col2\" >0</td>\n",
       "      <td id=\"T_e83e4_row6_col3\" class=\"data row6 col3\" >0</td>\n",
       "      <td id=\"T_e83e4_row6_col4\" class=\"data row6 col4\" >0</td>\n",
       "      <td id=\"T_e83e4_row6_col5\" class=\"data row6 col5\" >0</td>\n",
       "      <td id=\"T_e83e4_row6_col6\" class=\"data row6 col6\" >0</td>\n",
       "      <td id=\"T_e83e4_row6_col7\" class=\"data row6 col7\" >0</td>\n",
       "      <td id=\"T_e83e4_row6_col8\" class=\"data row6 col8\" >0</td>\n",
       "      <td id=\"T_e83e4_row6_col9\" class=\"data row6 col9\" >0</td>\n",
       "      <td id=\"T_e83e4_row6_col10\" class=\"data row6 col10\" >249</td>\n",
       "      <td id=\"T_e83e4_row6_col11\" class=\"data row6 col11\" >253</td>\n",
       "      <td id=\"T_e83e4_row6_col12\" class=\"data row6 col12\" >245</td>\n",
       "      <td id=\"T_e83e4_row6_col13\" class=\"data row6 col13\" >126</td>\n",
       "      <td id=\"T_e83e4_row6_col14\" class=\"data row6 col14\" >0</td>\n",
       "      <td id=\"T_e83e4_row6_col15\" class=\"data row6 col15\" >0</td>\n",
       "      <td id=\"T_e83e4_row6_col16\" class=\"data row6 col16\" >0</td>\n",
       "      <td id=\"T_e83e4_row6_col17\" class=\"data row6 col17\" >0</td>\n",
       "    </tr>\n",
       "    <tr>\n",
       "      <th id=\"T_e83e4_level0_row7\" class=\"row_heading level0 row7\" >7</th>\n",
       "      <td id=\"T_e83e4_row7_col0\" class=\"data row7 col0\" >0</td>\n",
       "      <td id=\"T_e83e4_row7_col1\" class=\"data row7 col1\" >0</td>\n",
       "      <td id=\"T_e83e4_row7_col2\" class=\"data row7 col2\" >0</td>\n",
       "      <td id=\"T_e83e4_row7_col3\" class=\"data row7 col3\" >0</td>\n",
       "      <td id=\"T_e83e4_row7_col4\" class=\"data row7 col4\" >0</td>\n",
       "      <td id=\"T_e83e4_row7_col5\" class=\"data row7 col5\" >0</td>\n",
       "      <td id=\"T_e83e4_row7_col6\" class=\"data row7 col6\" >0</td>\n",
       "      <td id=\"T_e83e4_row7_col7\" class=\"data row7 col7\" >14</td>\n",
       "      <td id=\"T_e83e4_row7_col8\" class=\"data row7 col8\" >101</td>\n",
       "      <td id=\"T_e83e4_row7_col9\" class=\"data row7 col9\" >223</td>\n",
       "      <td id=\"T_e83e4_row7_col10\" class=\"data row7 col10\" >253</td>\n",
       "      <td id=\"T_e83e4_row7_col11\" class=\"data row7 col11\" >248</td>\n",
       "      <td id=\"T_e83e4_row7_col12\" class=\"data row7 col12\" >124</td>\n",
       "      <td id=\"T_e83e4_row7_col13\" class=\"data row7 col13\" >0</td>\n",
       "      <td id=\"T_e83e4_row7_col14\" class=\"data row7 col14\" >0</td>\n",
       "      <td id=\"T_e83e4_row7_col15\" class=\"data row7 col15\" >0</td>\n",
       "      <td id=\"T_e83e4_row7_col16\" class=\"data row7 col16\" >0</td>\n",
       "      <td id=\"T_e83e4_row7_col17\" class=\"data row7 col17\" >0</td>\n",
       "    </tr>\n",
       "    <tr>\n",
       "      <th id=\"T_e83e4_level0_row8\" class=\"row_heading level0 row8\" >8</th>\n",
       "      <td id=\"T_e83e4_row8_col0\" class=\"data row8 col0\" >0</td>\n",
       "      <td id=\"T_e83e4_row8_col1\" class=\"data row8 col1\" >0</td>\n",
       "      <td id=\"T_e83e4_row8_col2\" class=\"data row8 col2\" >0</td>\n",
       "      <td id=\"T_e83e4_row8_col3\" class=\"data row8 col3\" >0</td>\n",
       "      <td id=\"T_e83e4_row8_col4\" class=\"data row8 col4\" >0</td>\n",
       "      <td id=\"T_e83e4_row8_col5\" class=\"data row8 col5\" >11</td>\n",
       "      <td id=\"T_e83e4_row8_col6\" class=\"data row8 col6\" >166</td>\n",
       "      <td id=\"T_e83e4_row8_col7\" class=\"data row8 col7\" >239</td>\n",
       "      <td id=\"T_e83e4_row8_col8\" class=\"data row8 col8\" >253</td>\n",
       "      <td id=\"T_e83e4_row8_col9\" class=\"data row8 col9\" >253</td>\n",
       "      <td id=\"T_e83e4_row8_col10\" class=\"data row8 col10\" >253</td>\n",
       "      <td id=\"T_e83e4_row8_col11\" class=\"data row8 col11\" >187</td>\n",
       "      <td id=\"T_e83e4_row8_col12\" class=\"data row8 col12\" >30</td>\n",
       "      <td id=\"T_e83e4_row8_col13\" class=\"data row8 col13\" >0</td>\n",
       "      <td id=\"T_e83e4_row8_col14\" class=\"data row8 col14\" >0</td>\n",
       "      <td id=\"T_e83e4_row8_col15\" class=\"data row8 col15\" >0</td>\n",
       "      <td id=\"T_e83e4_row8_col16\" class=\"data row8 col16\" >0</td>\n",
       "      <td id=\"T_e83e4_row8_col17\" class=\"data row8 col17\" >0</td>\n",
       "    </tr>\n",
       "    <tr>\n",
       "      <th id=\"T_e83e4_level0_row9\" class=\"row_heading level0 row9\" >9</th>\n",
       "      <td id=\"T_e83e4_row9_col0\" class=\"data row9 col0\" >0</td>\n",
       "      <td id=\"T_e83e4_row9_col1\" class=\"data row9 col1\" >0</td>\n",
       "      <td id=\"T_e83e4_row9_col2\" class=\"data row9 col2\" >0</td>\n",
       "      <td id=\"T_e83e4_row9_col3\" class=\"data row9 col3\" >0</td>\n",
       "      <td id=\"T_e83e4_row9_col4\" class=\"data row9 col4\" >0</td>\n",
       "      <td id=\"T_e83e4_row9_col5\" class=\"data row9 col5\" >16</td>\n",
       "      <td id=\"T_e83e4_row9_col6\" class=\"data row9 col6\" >248</td>\n",
       "      <td id=\"T_e83e4_row9_col7\" class=\"data row9 col7\" >250</td>\n",
       "      <td id=\"T_e83e4_row9_col8\" class=\"data row9 col8\" >253</td>\n",
       "      <td id=\"T_e83e4_row9_col9\" class=\"data row9 col9\" >253</td>\n",
       "      <td id=\"T_e83e4_row9_col10\" class=\"data row9 col10\" >253</td>\n",
       "      <td id=\"T_e83e4_row9_col11\" class=\"data row9 col11\" >253</td>\n",
       "      <td id=\"T_e83e4_row9_col12\" class=\"data row9 col12\" >232</td>\n",
       "      <td id=\"T_e83e4_row9_col13\" class=\"data row9 col13\" >213</td>\n",
       "      <td id=\"T_e83e4_row9_col14\" class=\"data row9 col14\" >111</td>\n",
       "      <td id=\"T_e83e4_row9_col15\" class=\"data row9 col15\" >2</td>\n",
       "      <td id=\"T_e83e4_row9_col16\" class=\"data row9 col16\" >0</td>\n",
       "      <td id=\"T_e83e4_row9_col17\" class=\"data row9 col17\" >0</td>\n",
       "    </tr>\n",
       "    <tr>\n",
       "      <th id=\"T_e83e4_level0_row10\" class=\"row_heading level0 row10\" >10</th>\n",
       "      <td id=\"T_e83e4_row10_col0\" class=\"data row10 col0\" >0</td>\n",
       "      <td id=\"T_e83e4_row10_col1\" class=\"data row10 col1\" >0</td>\n",
       "      <td id=\"T_e83e4_row10_col2\" class=\"data row10 col2\" >0</td>\n",
       "      <td id=\"T_e83e4_row10_col3\" class=\"data row10 col3\" >0</td>\n",
       "      <td id=\"T_e83e4_row10_col4\" class=\"data row10 col4\" >0</td>\n",
       "      <td id=\"T_e83e4_row10_col5\" class=\"data row10 col5\" >0</td>\n",
       "      <td id=\"T_e83e4_row10_col6\" class=\"data row10 col6\" >0</td>\n",
       "      <td id=\"T_e83e4_row10_col7\" class=\"data row10 col7\" >43</td>\n",
       "      <td id=\"T_e83e4_row10_col8\" class=\"data row10 col8\" >98</td>\n",
       "      <td id=\"T_e83e4_row10_col9\" class=\"data row10 col9\" >98</td>\n",
       "      <td id=\"T_e83e4_row10_col10\" class=\"data row10 col10\" >208</td>\n",
       "      <td id=\"T_e83e4_row10_col11\" class=\"data row10 col11\" >253</td>\n",
       "      <td id=\"T_e83e4_row10_col12\" class=\"data row10 col12\" >253</td>\n",
       "      <td id=\"T_e83e4_row10_col13\" class=\"data row10 col13\" >253</td>\n",
       "      <td id=\"T_e83e4_row10_col14\" class=\"data row10 col14\" >253</td>\n",
       "      <td id=\"T_e83e4_row10_col15\" class=\"data row10 col15\" >187</td>\n",
       "      <td id=\"T_e83e4_row10_col16\" class=\"data row10 col16\" >22</td>\n",
       "      <td id=\"T_e83e4_row10_col17\" class=\"data row10 col17\" >0</td>\n",
       "    </tr>\n",
       "    <tr>\n",
       "      <th id=\"T_e83e4_level0_row11\" class=\"row_heading level0 row11\" >11</th>\n",
       "      <td id=\"T_e83e4_row11_col0\" class=\"data row11 col0\" >0</td>\n",
       "      <td id=\"T_e83e4_row11_col1\" class=\"data row11 col1\" >0</td>\n",
       "      <td id=\"T_e83e4_row11_col2\" class=\"data row11 col2\" >0</td>\n",
       "      <td id=\"T_e83e4_row11_col3\" class=\"data row11 col3\" >0</td>\n",
       "      <td id=\"T_e83e4_row11_col4\" class=\"data row11 col4\" >0</td>\n",
       "      <td id=\"T_e83e4_row11_col5\" class=\"data row11 col5\" >0</td>\n",
       "      <td id=\"T_e83e4_row11_col6\" class=\"data row11 col6\" >0</td>\n",
       "      <td id=\"T_e83e4_row11_col7\" class=\"data row11 col7\" >0</td>\n",
       "      <td id=\"T_e83e4_row11_col8\" class=\"data row11 col8\" >0</td>\n",
       "      <td id=\"T_e83e4_row11_col9\" class=\"data row11 col9\" >0</td>\n",
       "      <td id=\"T_e83e4_row11_col10\" class=\"data row11 col10\" >9</td>\n",
       "      <td id=\"T_e83e4_row11_col11\" class=\"data row11 col11\" >51</td>\n",
       "      <td id=\"T_e83e4_row11_col12\" class=\"data row11 col12\" >119</td>\n",
       "      <td id=\"T_e83e4_row11_col13\" class=\"data row11 col13\" >253</td>\n",
       "      <td id=\"T_e83e4_row11_col14\" class=\"data row11 col14\" >253</td>\n",
       "      <td id=\"T_e83e4_row11_col15\" class=\"data row11 col15\" >253</td>\n",
       "      <td id=\"T_e83e4_row11_col16\" class=\"data row11 col16\" >76</td>\n",
       "      <td id=\"T_e83e4_row11_col17\" class=\"data row11 col17\" >0</td>\n",
       "    </tr>\n",
       "    <tr>\n",
       "      <th id=\"T_e83e4_level0_row12\" class=\"row_heading level0 row12\" >12</th>\n",
       "      <td id=\"T_e83e4_row12_col0\" class=\"data row12 col0\" >0</td>\n",
       "      <td id=\"T_e83e4_row12_col1\" class=\"data row12 col1\" >0</td>\n",
       "      <td id=\"T_e83e4_row12_col2\" class=\"data row12 col2\" >0</td>\n",
       "      <td id=\"T_e83e4_row12_col3\" class=\"data row12 col3\" >0</td>\n",
       "      <td id=\"T_e83e4_row12_col4\" class=\"data row12 col4\" >0</td>\n",
       "      <td id=\"T_e83e4_row12_col5\" class=\"data row12 col5\" >0</td>\n",
       "      <td id=\"T_e83e4_row12_col6\" class=\"data row12 col6\" >0</td>\n",
       "      <td id=\"T_e83e4_row12_col7\" class=\"data row12 col7\" >0</td>\n",
       "      <td id=\"T_e83e4_row12_col8\" class=\"data row12 col8\" >0</td>\n",
       "      <td id=\"T_e83e4_row12_col9\" class=\"data row12 col9\" >0</td>\n",
       "      <td id=\"T_e83e4_row12_col10\" class=\"data row12 col10\" >0</td>\n",
       "      <td id=\"T_e83e4_row12_col11\" class=\"data row12 col11\" >0</td>\n",
       "      <td id=\"T_e83e4_row12_col12\" class=\"data row12 col12\" >1</td>\n",
       "      <td id=\"T_e83e4_row12_col13\" class=\"data row12 col13\" >183</td>\n",
       "      <td id=\"T_e83e4_row12_col14\" class=\"data row12 col14\" >253</td>\n",
       "      <td id=\"T_e83e4_row12_col15\" class=\"data row12 col15\" >253</td>\n",
       "      <td id=\"T_e83e4_row12_col16\" class=\"data row12 col16\" >139</td>\n",
       "      <td id=\"T_e83e4_row12_col17\" class=\"data row12 col17\" >0</td>\n",
       "    </tr>\n",
       "    <tr>\n",
       "      <th id=\"T_e83e4_level0_row13\" class=\"row_heading level0 row13\" >13</th>\n",
       "      <td id=\"T_e83e4_row13_col0\" class=\"data row13 col0\" >0</td>\n",
       "      <td id=\"T_e83e4_row13_col1\" class=\"data row13 col1\" >0</td>\n",
       "      <td id=\"T_e83e4_row13_col2\" class=\"data row13 col2\" >0</td>\n",
       "      <td id=\"T_e83e4_row13_col3\" class=\"data row13 col3\" >0</td>\n",
       "      <td id=\"T_e83e4_row13_col4\" class=\"data row13 col4\" >0</td>\n",
       "      <td id=\"T_e83e4_row13_col5\" class=\"data row13 col5\" >0</td>\n",
       "      <td id=\"T_e83e4_row13_col6\" class=\"data row13 col6\" >0</td>\n",
       "      <td id=\"T_e83e4_row13_col7\" class=\"data row13 col7\" >0</td>\n",
       "      <td id=\"T_e83e4_row13_col8\" class=\"data row13 col8\" >0</td>\n",
       "      <td id=\"T_e83e4_row13_col9\" class=\"data row13 col9\" >0</td>\n",
       "      <td id=\"T_e83e4_row13_col10\" class=\"data row13 col10\" >0</td>\n",
       "      <td id=\"T_e83e4_row13_col11\" class=\"data row13 col11\" >0</td>\n",
       "      <td id=\"T_e83e4_row13_col12\" class=\"data row13 col12\" >0</td>\n",
       "      <td id=\"T_e83e4_row13_col13\" class=\"data row13 col13\" >182</td>\n",
       "      <td id=\"T_e83e4_row13_col14\" class=\"data row13 col14\" >253</td>\n",
       "      <td id=\"T_e83e4_row13_col15\" class=\"data row13 col15\" >253</td>\n",
       "      <td id=\"T_e83e4_row13_col16\" class=\"data row13 col16\" >104</td>\n",
       "      <td id=\"T_e83e4_row13_col17\" class=\"data row13 col17\" >0</td>\n",
       "    </tr>\n",
       "    <tr>\n",
       "      <th id=\"T_e83e4_level0_row14\" class=\"row_heading level0 row14\" >14</th>\n",
       "      <td id=\"T_e83e4_row14_col0\" class=\"data row14 col0\" >0</td>\n",
       "      <td id=\"T_e83e4_row14_col1\" class=\"data row14 col1\" >0</td>\n",
       "      <td id=\"T_e83e4_row14_col2\" class=\"data row14 col2\" >0</td>\n",
       "      <td id=\"T_e83e4_row14_col3\" class=\"data row14 col3\" >0</td>\n",
       "      <td id=\"T_e83e4_row14_col4\" class=\"data row14 col4\" >0</td>\n",
       "      <td id=\"T_e83e4_row14_col5\" class=\"data row14 col5\" >0</td>\n",
       "      <td id=\"T_e83e4_row14_col6\" class=\"data row14 col6\" >0</td>\n",
       "      <td id=\"T_e83e4_row14_col7\" class=\"data row14 col7\" >0</td>\n",
       "      <td id=\"T_e83e4_row14_col8\" class=\"data row14 col8\" >0</td>\n",
       "      <td id=\"T_e83e4_row14_col9\" class=\"data row14 col9\" >0</td>\n",
       "      <td id=\"T_e83e4_row14_col10\" class=\"data row14 col10\" >0</td>\n",
       "      <td id=\"T_e83e4_row14_col11\" class=\"data row14 col11\" >0</td>\n",
       "      <td id=\"T_e83e4_row14_col12\" class=\"data row14 col12\" >85</td>\n",
       "      <td id=\"T_e83e4_row14_col13\" class=\"data row14 col13\" >249</td>\n",
       "      <td id=\"T_e83e4_row14_col14\" class=\"data row14 col14\" >253</td>\n",
       "      <td id=\"T_e83e4_row14_col15\" class=\"data row14 col15\" >253</td>\n",
       "      <td id=\"T_e83e4_row14_col16\" class=\"data row14 col16\" >36</td>\n",
       "      <td id=\"T_e83e4_row14_col17\" class=\"data row14 col17\" >0</td>\n",
       "    </tr>\n",
       "    <tr>\n",
       "      <th id=\"T_e83e4_level0_row15\" class=\"row_heading level0 row15\" >15</th>\n",
       "      <td id=\"T_e83e4_row15_col0\" class=\"data row15 col0\" >0</td>\n",
       "      <td id=\"T_e83e4_row15_col1\" class=\"data row15 col1\" >0</td>\n",
       "      <td id=\"T_e83e4_row15_col2\" class=\"data row15 col2\" >0</td>\n",
       "      <td id=\"T_e83e4_row15_col3\" class=\"data row15 col3\" >0</td>\n",
       "      <td id=\"T_e83e4_row15_col4\" class=\"data row15 col4\" >0</td>\n",
       "      <td id=\"T_e83e4_row15_col5\" class=\"data row15 col5\" >0</td>\n",
       "      <td id=\"T_e83e4_row15_col6\" class=\"data row15 col6\" >0</td>\n",
       "      <td id=\"T_e83e4_row15_col7\" class=\"data row15 col7\" >0</td>\n",
       "      <td id=\"T_e83e4_row15_col8\" class=\"data row15 col8\" >0</td>\n",
       "      <td id=\"T_e83e4_row15_col9\" class=\"data row15 col9\" >0</td>\n",
       "      <td id=\"T_e83e4_row15_col10\" class=\"data row15 col10\" >0</td>\n",
       "      <td id=\"T_e83e4_row15_col11\" class=\"data row15 col11\" >60</td>\n",
       "      <td id=\"T_e83e4_row15_col12\" class=\"data row15 col12\" >214</td>\n",
       "      <td id=\"T_e83e4_row15_col13\" class=\"data row15 col13\" >253</td>\n",
       "      <td id=\"T_e83e4_row15_col14\" class=\"data row15 col14\" >253</td>\n",
       "      <td id=\"T_e83e4_row15_col15\" class=\"data row15 col15\" >173</td>\n",
       "      <td id=\"T_e83e4_row15_col16\" class=\"data row15 col16\" >11</td>\n",
       "      <td id=\"T_e83e4_row15_col17\" class=\"data row15 col17\" >0</td>\n",
       "    </tr>\n",
       "    <tr>\n",
       "      <th id=\"T_e83e4_level0_row16\" class=\"row_heading level0 row16\" >16</th>\n",
       "      <td id=\"T_e83e4_row16_col0\" class=\"data row16 col0\" >0</td>\n",
       "      <td id=\"T_e83e4_row16_col1\" class=\"data row16 col1\" >0</td>\n",
       "      <td id=\"T_e83e4_row16_col2\" class=\"data row16 col2\" >0</td>\n",
       "      <td id=\"T_e83e4_row16_col3\" class=\"data row16 col3\" >0</td>\n",
       "      <td id=\"T_e83e4_row16_col4\" class=\"data row16 col4\" >0</td>\n",
       "      <td id=\"T_e83e4_row16_col5\" class=\"data row16 col5\" >0</td>\n",
       "      <td id=\"T_e83e4_row16_col6\" class=\"data row16 col6\" >0</td>\n",
       "      <td id=\"T_e83e4_row16_col7\" class=\"data row16 col7\" >0</td>\n",
       "      <td id=\"T_e83e4_row16_col8\" class=\"data row16 col8\" >0</td>\n",
       "      <td id=\"T_e83e4_row16_col9\" class=\"data row16 col9\" >0</td>\n",
       "      <td id=\"T_e83e4_row16_col10\" class=\"data row16 col10\" >98</td>\n",
       "      <td id=\"T_e83e4_row16_col11\" class=\"data row16 col11\" >247</td>\n",
       "      <td id=\"T_e83e4_row16_col12\" class=\"data row16 col12\" >253</td>\n",
       "      <td id=\"T_e83e4_row16_col13\" class=\"data row16 col13\" >253</td>\n",
       "      <td id=\"T_e83e4_row16_col14\" class=\"data row16 col14\" >226</td>\n",
       "      <td id=\"T_e83e4_row16_col15\" class=\"data row16 col15\" >9</td>\n",
       "      <td id=\"T_e83e4_row16_col16\" class=\"data row16 col16\" >0</td>\n",
       "      <td id=\"T_e83e4_row16_col17\" class=\"data row16 col17\" >0</td>\n",
       "    </tr>\n",
       "    <tr>\n",
       "      <th id=\"T_e83e4_level0_row17\" class=\"row_heading level0 row17\" >17</th>\n",
       "      <td id=\"T_e83e4_row17_col0\" class=\"data row17 col0\" >0</td>\n",
       "      <td id=\"T_e83e4_row17_col1\" class=\"data row17 col1\" >0</td>\n",
       "      <td id=\"T_e83e4_row17_col2\" class=\"data row17 col2\" >0</td>\n",
       "      <td id=\"T_e83e4_row17_col3\" class=\"data row17 col3\" >0</td>\n",
       "      <td id=\"T_e83e4_row17_col4\" class=\"data row17 col4\" >0</td>\n",
       "      <td id=\"T_e83e4_row17_col5\" class=\"data row17 col5\" >0</td>\n",
       "      <td id=\"T_e83e4_row17_col6\" class=\"data row17 col6\" >0</td>\n",
       "      <td id=\"T_e83e4_row17_col7\" class=\"data row17 col7\" >0</td>\n",
       "      <td id=\"T_e83e4_row17_col8\" class=\"data row17 col8\" >42</td>\n",
       "      <td id=\"T_e83e4_row17_col9\" class=\"data row17 col9\" >150</td>\n",
       "      <td id=\"T_e83e4_row17_col10\" class=\"data row17 col10\" >252</td>\n",
       "      <td id=\"T_e83e4_row17_col11\" class=\"data row17 col11\" >253</td>\n",
       "      <td id=\"T_e83e4_row17_col12\" class=\"data row17 col12\" >253</td>\n",
       "      <td id=\"T_e83e4_row17_col13\" class=\"data row17 col13\" >233</td>\n",
       "      <td id=\"T_e83e4_row17_col14\" class=\"data row17 col14\" >53</td>\n",
       "      <td id=\"T_e83e4_row17_col15\" class=\"data row17 col15\" >0</td>\n",
       "      <td id=\"T_e83e4_row17_col16\" class=\"data row17 col16\" >0</td>\n",
       "      <td id=\"T_e83e4_row17_col17\" class=\"data row17 col17\" >0</td>\n",
       "    </tr>\n",
       "    <tr>\n",
       "      <th id=\"T_e83e4_level0_row18\" class=\"row_heading level0 row18\" >18</th>\n",
       "      <td id=\"T_e83e4_row18_col0\" class=\"data row18 col0\" >0</td>\n",
       "      <td id=\"T_e83e4_row18_col1\" class=\"data row18 col1\" >0</td>\n",
       "      <td id=\"T_e83e4_row18_col2\" class=\"data row18 col2\" >42</td>\n",
       "      <td id=\"T_e83e4_row18_col3\" class=\"data row18 col3\" >115</td>\n",
       "      <td id=\"T_e83e4_row18_col4\" class=\"data row18 col4\" >42</td>\n",
       "      <td id=\"T_e83e4_row18_col5\" class=\"data row18 col5\" >60</td>\n",
       "      <td id=\"T_e83e4_row18_col6\" class=\"data row18 col6\" >115</td>\n",
       "      <td id=\"T_e83e4_row18_col7\" class=\"data row18 col7\" >159</td>\n",
       "      <td id=\"T_e83e4_row18_col8\" class=\"data row18 col8\" >240</td>\n",
       "      <td id=\"T_e83e4_row18_col9\" class=\"data row18 col9\" >253</td>\n",
       "      <td id=\"T_e83e4_row18_col10\" class=\"data row18 col10\" >253</td>\n",
       "      <td id=\"T_e83e4_row18_col11\" class=\"data row18 col11\" >250</td>\n",
       "      <td id=\"T_e83e4_row18_col12\" class=\"data row18 col12\" >175</td>\n",
       "      <td id=\"T_e83e4_row18_col13\" class=\"data row18 col13\" >25</td>\n",
       "      <td id=\"T_e83e4_row18_col14\" class=\"data row18 col14\" >0</td>\n",
       "      <td id=\"T_e83e4_row18_col15\" class=\"data row18 col15\" >0</td>\n",
       "      <td id=\"T_e83e4_row18_col16\" class=\"data row18 col16\" >0</td>\n",
       "      <td id=\"T_e83e4_row18_col17\" class=\"data row18 col17\" >0</td>\n",
       "    </tr>\n",
       "    <tr>\n",
       "      <th id=\"T_e83e4_level0_row19\" class=\"row_heading level0 row19\" >19</th>\n",
       "      <td id=\"T_e83e4_row19_col0\" class=\"data row19 col0\" >0</td>\n",
       "      <td id=\"T_e83e4_row19_col1\" class=\"data row19 col1\" >0</td>\n",
       "      <td id=\"T_e83e4_row19_col2\" class=\"data row19 col2\" >187</td>\n",
       "      <td id=\"T_e83e4_row19_col3\" class=\"data row19 col3\" >253</td>\n",
       "      <td id=\"T_e83e4_row19_col4\" class=\"data row19 col4\" >253</td>\n",
       "      <td id=\"T_e83e4_row19_col5\" class=\"data row19 col5\" >253</td>\n",
       "      <td id=\"T_e83e4_row19_col6\" class=\"data row19 col6\" >253</td>\n",
       "      <td id=\"T_e83e4_row19_col7\" class=\"data row19 col7\" >253</td>\n",
       "      <td id=\"T_e83e4_row19_col8\" class=\"data row19 col8\" >253</td>\n",
       "      <td id=\"T_e83e4_row19_col9\" class=\"data row19 col9\" >253</td>\n",
       "      <td id=\"T_e83e4_row19_col10\" class=\"data row19 col10\" >197</td>\n",
       "      <td id=\"T_e83e4_row19_col11\" class=\"data row19 col11\" >86</td>\n",
       "      <td id=\"T_e83e4_row19_col12\" class=\"data row19 col12\" >0</td>\n",
       "      <td id=\"T_e83e4_row19_col13\" class=\"data row19 col13\" >0</td>\n",
       "      <td id=\"T_e83e4_row19_col14\" class=\"data row19 col14\" >0</td>\n",
       "      <td id=\"T_e83e4_row19_col15\" class=\"data row19 col15\" >0</td>\n",
       "      <td id=\"T_e83e4_row19_col16\" class=\"data row19 col16\" >0</td>\n",
       "      <td id=\"T_e83e4_row19_col17\" class=\"data row19 col17\" >0</td>\n",
       "    </tr>\n",
       "    <tr>\n",
       "      <th id=\"T_e83e4_level0_row20\" class=\"row_heading level0 row20\" >20</th>\n",
       "      <td id=\"T_e83e4_row20_col0\" class=\"data row20 col0\" >0</td>\n",
       "      <td id=\"T_e83e4_row20_col1\" class=\"data row20 col1\" >0</td>\n",
       "      <td id=\"T_e83e4_row20_col2\" class=\"data row20 col2\" >103</td>\n",
       "      <td id=\"T_e83e4_row20_col3\" class=\"data row20 col3\" >253</td>\n",
       "      <td id=\"T_e83e4_row20_col4\" class=\"data row20 col4\" >253</td>\n",
       "      <td id=\"T_e83e4_row20_col5\" class=\"data row20 col5\" >253</td>\n",
       "      <td id=\"T_e83e4_row20_col6\" class=\"data row20 col6\" >253</td>\n",
       "      <td id=\"T_e83e4_row20_col7\" class=\"data row20 col7\" >253</td>\n",
       "      <td id=\"T_e83e4_row20_col8\" class=\"data row20 col8\" >232</td>\n",
       "      <td id=\"T_e83e4_row20_col9\" class=\"data row20 col9\" >67</td>\n",
       "      <td id=\"T_e83e4_row20_col10\" class=\"data row20 col10\" >1</td>\n",
       "      <td id=\"T_e83e4_row20_col11\" class=\"data row20 col11\" >0</td>\n",
       "      <td id=\"T_e83e4_row20_col12\" class=\"data row20 col12\" >0</td>\n",
       "      <td id=\"T_e83e4_row20_col13\" class=\"data row20 col13\" >0</td>\n",
       "      <td id=\"T_e83e4_row20_col14\" class=\"data row20 col14\" >0</td>\n",
       "      <td id=\"T_e83e4_row20_col15\" class=\"data row20 col15\" >0</td>\n",
       "      <td id=\"T_e83e4_row20_col16\" class=\"data row20 col16\" >0</td>\n",
       "      <td id=\"T_e83e4_row20_col17\" class=\"data row20 col17\" >0</td>\n",
       "    </tr>\n",
       "    <tr>\n",
       "      <th id=\"T_e83e4_level0_row21\" class=\"row_heading level0 row21\" >21</th>\n",
       "      <td id=\"T_e83e4_row21_col0\" class=\"data row21 col0\" >0</td>\n",
       "      <td id=\"T_e83e4_row21_col1\" class=\"data row21 col1\" >0</td>\n",
       "      <td id=\"T_e83e4_row21_col2\" class=\"data row21 col2\" >0</td>\n",
       "      <td id=\"T_e83e4_row21_col3\" class=\"data row21 col3\" >0</td>\n",
       "      <td id=\"T_e83e4_row21_col4\" class=\"data row21 col4\" >0</td>\n",
       "      <td id=\"T_e83e4_row21_col5\" class=\"data row21 col5\" >0</td>\n",
       "      <td id=\"T_e83e4_row21_col6\" class=\"data row21 col6\" >0</td>\n",
       "      <td id=\"T_e83e4_row21_col7\" class=\"data row21 col7\" >0</td>\n",
       "      <td id=\"T_e83e4_row21_col8\" class=\"data row21 col8\" >0</td>\n",
       "      <td id=\"T_e83e4_row21_col9\" class=\"data row21 col9\" >0</td>\n",
       "      <td id=\"T_e83e4_row21_col10\" class=\"data row21 col10\" >0</td>\n",
       "      <td id=\"T_e83e4_row21_col11\" class=\"data row21 col11\" >0</td>\n",
       "      <td id=\"T_e83e4_row21_col12\" class=\"data row21 col12\" >0</td>\n",
       "      <td id=\"T_e83e4_row21_col13\" class=\"data row21 col13\" >0</td>\n",
       "      <td id=\"T_e83e4_row21_col14\" class=\"data row21 col14\" >0</td>\n",
       "      <td id=\"T_e83e4_row21_col15\" class=\"data row21 col15\" >0</td>\n",
       "      <td id=\"T_e83e4_row21_col16\" class=\"data row21 col16\" >0</td>\n",
       "      <td id=\"T_e83e4_row21_col17\" class=\"data row21 col17\" >0</td>\n",
       "    </tr>\n",
       "  </tbody>\n",
       "</table>\n"
      ],
      "text/plain": [
       "<pandas.io.formats.style.Styler at 0x7face308ba60>"
      ]
     },
     "execution_count": 80,
     "metadata": {},
     "output_type": "execute_result"
    }
   ],
   "source": [
    "df = pd.DataFrame(tensor(im3)[4:26, 4:22])\n",
    "df.style.set_properties(**{'font-size':'10pt'}).background_gradient('Greys')\n"
   ]
  },
  {
   "cell_type": "markdown",
   "id": "4d80045d-ab9d-4e2e-a357-eae47ada2f91",
   "metadata": {},
   "source": [
    "# A first attempt\n",
    "For a first attempt at recognizing digits, we won't use a neural network. We'll see how similar each pixel of a sample is to an \"ideal 3\" or an \"ideal 7\". We'll consider it a three if the sample is closer to this ideal 3."
   ]
  },
  {
   "cell_type": "code",
   "execution_count": 81,
   "id": "60d82490-a6bf-4574-85b4-93d317fc8650",
   "metadata": {},
   "outputs": [
    {
     "data": {
      "text/plain": [
       "(6131, 6265)"
      ]
     },
     "execution_count": 81,
     "metadata": {},
     "output_type": "execute_result"
    }
   ],
   "source": [
    "seven_tensors = [tensor(Image.open(o)) for o in sevens]\n",
    "three_tensors = [tensor(Image.open(o)) for o in threes]\n",
    "len(three_tensors), len(seven_tensors)"
   ]
  },
  {
   "cell_type": "code",
   "execution_count": 87,
   "id": "e99e1657-319a-4dbc-a40e-347cf899178a",
   "metadata": {},
   "outputs": [
    {
     "data": {
      "text/plain": [
       "<Axes: >"
      ]
     },
     "execution_count": 87,
     "metadata": {},
     "output_type": "execute_result"
    },
    {
     "data": {
      "image/png": "[encoded data removed]",
      "text/plain": [
       "<Figure size 100x100 with 1 Axes>"
      ]
     },
     "metadata": {},
     "output_type": "display_data"
    }
   ],
   "source": [
    "show_image(three_tensors[1])"
   ]
  },
  {
   "cell_type": "code",
   "execution_count": 88,
   "id": "879bc0cf-ee50-4de0-a9a7-585bb13a0273",
   "metadata": {},
   "outputs": [
    {
     "data": {
      "text/plain": [
       "torch.Size([6131, 28, 28])"
      ]
     },
     "execution_count": 88,
     "metadata": {},
     "output_type": "execute_result"
    }
   ],
   "source": [
    "stacked_sevens = torch.stack(seven_tensors).float()/255\n",
    "stacked_threes = torch.stack(three_tensors).float()/255\n",
    "stacked_threes.shape"
   ]
  },
  {
   "cell_type": "code",
   "execution_count": 100,
   "id": "acb837ce-45d5-40fb-97ab-20cbaec1450f",
   "metadata": {},
   "outputs": [
    {
     "name": "stdout",
     "output_type": "stream",
     "text": [
      "A tensor's rank is its dimension: 3\n",
      "A tensor's rank is its dimension: 3\n"
     ]
    }
   ],
   "source": [
    "print(\"A tensor's rank is its dimension:\", stacked_threes.ndim, )\n",
    "print(\"A tensor's rank is its dimension:\", len(stacked_threes.shape) )"
   ]
  },
  {
   "cell_type": "code",
   "execution_count": 101,
   "id": "e6634aca-ef6d-447b-8f8c-a0d4f03673ba",
   "metadata": {},
   "outputs": [
    {
     "data": {
      "text/plain": [
       "<Axes: >"
      ]
     },
     "execution_count": 101,
     "metadata": {},
     "output_type": "execute_result"
    },
    {
     "data": {
      "image/png": "[encoded data removed]",
      "text/plain": [
       "<Figure size 100x100 with 1 Axes>"
      ]
     },
     "metadata": {},
     "output_type": "display_data"
    }
   ],
   "source": [
    "mean3 = stacked_threes.mean(0)\n",
    "show_image(mean3)"
   ]
  },
  {
   "cell_type": "code",
   "execution_count": 102,
   "id": "30185876-074f-4d2a-87de-d10ccccfa696",
   "metadata": {},
   "outputs": [
    {
     "data": {
      "text/plain": [
       "<Axes: >"
      ]
     },
     "execution_count": 102,
     "metadata": {},
     "output_type": "execute_result"
    },
    {
     "data": {
      "image/png": "[encoded data removed]",
      "text/plain": [
       "<Figure size 100x100 with 1 Axes>"
      ]
     },
     "metadata": {},
     "output_type": "display_data"
    }
   ],
   "source": [
    "mean7 = stacked_sevens.mean(0)\n",
    "show_image(mean7)"
   ]
  },
  {
   "cell_type": "code",
   "execution_count": 103,
   "id": "f42fc26d-0a01-4115-8289-206c48ed2203",
   "metadata": {},
   "outputs": [
    {
     "data": {
      "text/plain": [
       "<Axes: >"
      ]
     },
     "execution_count": 103,
     "metadata": {},
     "output_type": "execute_result"
    },
    {
     "data": {
      "image/png": "[encoded data removed]",
      "text/plain": [
       "<Figure size 100x100 with 1 Axes>"
      ]
     },
     "metadata": {},
     "output_type": "display_data"
    }
   ],
   "source": [
    "a_3 = stacked_threes[1]\n",
    "show_image(a_3)"
   ]
  },
  {
   "cell_type": "code",
   "execution_count": 121,
   "id": "c7f58508-d42f-447e-9080-02630d54e7ab",
   "metadata": {},
   "outputs": [
    {
     "name": "stdout",
     "output_type": "stream",
     "text": [
      "a_3 vs mean3: tensor(0.1114) tensor(0.2021)\n",
      "a_3 vs mean7: tensor(0.1586) tensor(0.3021)\n"
     ]
    }
   ],
   "source": [
    "def l1(a,b):\n",
    "    return (a-b).abs().mean()\n",
    "\n",
    "def l2(a,b):\n",
    "    return ((a-b)**2).mean().sqrt()\n",
    "\n",
    "print(\"a_3 vs mean3:\", l1(a_3, mean3), l2(a_3, mean3))\n",
    "print(\"a_3 vs mean7:\", l1(a_3, mean7), l2(a_3, mean7))"
   ]
  },
  {
   "cell_type": "markdown",
   "id": "1675a03f-ffd2-4334-b5f4-6ff12fab35e3",
   "metadata": {},
   "source": [
    "We don't have to define these norms. They're included in PyTorch under `torch.nn.functional`. `fastai` imports this module as `F`:"
   ]
  },
  {
   "cell_type": "code",
   "execution_count": 124,
   "id": "202fec2d-7182-48c3-95e6-11d9c22678f6",
   "metadata": {},
   "outputs": [
    {
     "name": "stdout",
     "output_type": "stream",
     "text": [
      "a_3 vs mean3: tensor(0.1114) tensor(0.2021)\n",
      "a_3 vs mean7: tensor(0.1586) tensor(0.3021)\n"
     ]
    }
   ],
   "source": [
    "print(\"a_3 vs mean3:\", F.l1_loss(a_3.float(), mean3),  F.mse_loss(a_3, mean3).sqrt())\n",
    "print(\"a_3 vs mean7:\", F.l1_loss(a_3.float(), mean7),  F.mse_loss(a_3, mean7).sqrt())"
   ]
  },
  {
   "cell_type": "markdown",
   "id": "a782583f-a63f-4d03-9925-ab619910b36d",
   "metadata": {},
   "source": [
    "We use PyTorch tensors instead of NumPy arrays because NumPy doesn't support GPU operations (but PyTorch does)."
   ]
  },
  {
   "cell_type": "code",
   "execution_count": 129,
   "id": "8035ac17-a7bb-487d-a69e-27a7f30f1fed",
   "metadata": {},
   "outputs": [],
   "source": [
    "valid_3_tens = torch.stack([tensor(Image.open(o)) for o in (path/'valid/3').ls() if '.ipynb_checkpoints' not in o.name]).float()/255\n",
    "valid_7_tens = torch.stack([tensor(Image.open(o)) for o in (path/'valid/7').ls() if '.ipynb_checkpoints' not in o.name]).float()/255"
   ]
  },
  {
   "cell_type": "code",
   "execution_count": 131,
   "id": "e75764db-6ec5-4b9b-a21a-cb46c3a6c2a5",
   "metadata": {},
   "outputs": [
    {
     "data": {
      "text/plain": [
       "torch.Size([1010, 28, 28])"
      ]
     },
     "execution_count": 131,
     "metadata": {},
     "output_type": "execute_result"
    }
   ],
   "source": [
    "valid_3_tens.shape"
   ]
  },
  {
   "cell_type": "code",
   "execution_count": 153,
   "id": "232998e2-f183-4d65-83da-6ccfbe36e508",
   "metadata": {},
   "outputs": [],
   "source": [
    "def mnist_distance(a,b):\n",
    "    return (a-b).abs().mean((-2,-1))"
   ]
  },
  {
   "cell_type": "code",
   "execution_count": 149,
   "id": "ba3c7ab4-b4c4-4099-b4ed-786c04ff0c59",
   "metadata": {},
   "outputs": [
    {
     "name": "stdout",
     "output_type": "stream",
     "text": [
      "tensor([0.1068, 0.1330, 0.1115,  ..., 0.1143, 0.1238, 0.1095]) torch.Size([1010])\n"
     ]
    }
   ],
   "source": [
    "print(mnist_distance(valid_3_tens, mean3), mnist_distance(valid_3_tens, mean3).shape)"
   ]
  },
  {
   "cell_type": "code",
   "execution_count": 154,
   "id": "9e4480d3-a8d9-457f-94ef-d3ed788d27c6",
   "metadata": {},
   "outputs": [],
   "source": [
    "def is_3(t):\n",
    "    return mnist_distance(t, mean3) < mnist_distance(t, mean7)"
   ]
  },
  {
   "cell_type": "code",
   "execution_count": 155,
   "id": "cd268d80-b59f-4a6a-b03a-578c0d8ef162",
   "metadata": {},
   "outputs": [
    {
     "data": {
      "text/plain": [
       "(tensor(True), tensor(1.))"
      ]
     },
     "execution_count": 155,
     "metadata": {},
     "output_type": "execute_result"
    }
   ],
   "source": [
    "is_3(a_3), is_3(a_3).float()"
   ]
  },
  {
   "cell_type": "code",
   "execution_count": 156,
   "id": "10346e4f-0e91-4a77-897d-38282f26bff9",
   "metadata": {},
   "outputs": [
    {
     "data": {
      "text/plain": [
       "tensor([True, True, True,  ..., True, True, True])"
      ]
     },
     "execution_count": 156,
     "metadata": {},
     "output_type": "execute_result"
    }
   ],
   "source": [
    "is_3(valid_3_tens)"
   ]
  },
  {
   "cell_type": "code",
   "execution_count": 158,
   "id": "3c816a29-f1bb-4a56-a331-6c0ce43cafbd",
   "metadata": {},
   "outputs": [
    {
     "data": {
      "text/plain": [
       "(tensor(0.9168), tensor(0.9854), tensor(0.9511))"
      ]
     },
     "execution_count": 158,
     "metadata": {},
     "output_type": "execute_result"
    }
   ],
   "source": [
    "accuracy_3s = is_3(valid_3_tens).float().mean()\n",
    "accuracy_7s = (1 - is_3(valid_7_tens).float()).mean()\n",
    "\n",
    "accuracy_3s, accuracy_7s, (accuracy_3s + accuracy_7s)/2"
   ]
  },
  {
   "cell_type": "markdown",
   "id": "20c518c5-515d-43ca-b04b-faeaedf18c99",
   "metadata": {},
   "source": [
    "## First attempt summary\n",
    "We get >90% accuracy using this method, but want to do better. The digits 3 and 7 look pretty different: Surely we can do better. \n",
    "\n",
    "We don't have a way to improve this model, so we need to find another approach."
   ]
  },
  {
   "cell_type": "markdown",
   "id": "9519b453-3265-466b-9b95-1b5e995200a0",
   "metadata": {},
   "source": [
    "# Attempt 2: SGD (Stochastic Gradient Descent)"
   ]
  }
 ],
 "metadata": {
  "kernelspec": {
   "display_name": "Python 3 (ipykernel)",
   "language": "python",
   "name": "python3"
  },
  "language_info": {
   "codemirror_mode": {
    "name": "ipython",
    "version": 3
   },
   "file_extension": ".py",
   "mimetype": "text/x-python",
   "name": "python",
   "nbconvert_exporter": "python",
   "pygments_lexer": "ipython3",
   "version": "3.10.12"
  },
  "widgets": {
   "application/vnd.jupyter.widget-state+json": {
    "state": {},
    "version_major": 2,
    "version_minor": 0
   }
  }
 },
 "nbformat": 4,
 "nbformat_minor": 5
}
