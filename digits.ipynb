{
 "cells": [
  {
   "cell_type": "code",
   "execution_count": 1,
   "id": "fcb2d7d0-abd9-4286-8a43-9f332c34437e",
   "metadata": {},
   "outputs": [],
   "source": [
    "from fastai.vision.all import *\n",
    "import torch.nn as nn\n",
    "import torch.nn.functional as F\n"
   ]
  },
  {
   "cell_type": "code",
   "execution_count": 2,
   "id": "9c5d2233-cc33-4bab-b00f-9520f235313a",
   "metadata": {},
   "outputs": [],
   "source": [
    "assert nn.Module, \"PyTorch nn.Module not imported.\"\n",
    "assert F.cross_entropy, \"PyTorch F.cross_entropy not imported.\"\n",
    "assert ImageDataLoaders, \"Fastai ImageDataLoaders not imported.\""
   ]
  },
  {
   "cell_type": "code",
   "execution_count": 3,
   "id": "7b58dbab-d690-4078-974a-f2ed7a4612b7",
   "metadata": {},
   "outputs": [],
   "source": [
    "path = untar_data(URLs.MNIST)"
   ]
  },
  {
   "cell_type": "code",
   "execution_count": 4,
   "id": "b3bd2115-ff06-4b5a-8291-ccf4ef880420",
   "metadata": {},
   "outputs": [],
   "source": [
    "from pathlib import Path\n",
    "assert Path(path/'training').exists(), \"Training data folder doesn't exist\"\n",
    "assert Path(path/'testing').exists(), \"Testing data folder doesn't exist\""
   ]
  },
  {
   "cell_type": "code",
   "execution_count": 5,
   "id": "a79c1a75-44c0-432b-831a-2a68e8bd9515",
   "metadata": {},
   "outputs": [
    {
     "name": "stderr",
     "output_type": "stream",
     "text": [
      "/home/john/mambaforge/envs/scratch/lib/python3.10/site-packages/fastai/data/transforms.py:225: FutureWarning: is_categorical_dtype is deprecated and will be removed in a future version. Use isinstance(dtype, CategoricalDtype) instead\n",
      "  if is_categorical_dtype(col):\n"
     ]
    }
   ],
   "source": [
    "dls = ImageDataLoaders.from_folder(path, train='training', valid='testing')"
   ]
  },
  {
   "cell_type": "code",
   "execution_count": 6,
   "id": "5694c4a5-8c91-49da-9bc0-078b70ff870b",
   "metadata": {},
   "outputs": [
    {
     "data": {
      "image/png": "[encoded data removed]",
      "text/plain": [
       "<Figure size 900x900 with 9 Axes>"
      ]
     },
     "metadata": {},
     "output_type": "display_data"
    }
   ],
   "source": [
    "dls.show_batch()"
   ]
  },
  {
   "cell_type": "code",
   "execution_count": 7,
   "id": "b161775f-1505-4f21-82a5-f0a2071a4787",
   "metadata": {},
   "outputs": [
    {
     "name": "stdout",
     "output_type": "stream",
     "text": [
      "['0', '1', '2', '3', '4', '5', '6', '7', '8', '9'] 937 157\n"
     ]
    }
   ],
   "source": [
    "print(dls.vocab, len(dls.train), len(dls.valid))"
   ]
  },
  {
   "cell_type": "code",
   "execution_count": 8,
   "id": "002958f4-363d-4d29-b227-cf7115d55e85",
   "metadata": {},
   "outputs": [],
   "source": [
    "\n",
    "class SimpleModel(nn.Module):\n",
    "    def __init__(self, in_features, hidden1, hidden2, out_features):\n",
    "        super(SimpleModel, self).__init__()\n",
    "        \n",
    "        self.fc1 = nn.Linear(in_features, hidden1)\n",
    "        self.fc2 = nn.Linear(hidden1, hidden2)\n",
    "        self.fc3 = nn.Linear(hidden2, out_features)\n",
    "\n",
    "    def forward(self, x):\n",
    "        x = torch.flatten(x, start_dim=1)  # Flattening\n",
    "        x = F.relu(self.fc1(x))\n",
    "        x = F.relu(self.fc2(x))\n",
    "        x = self.fc3(x)\n",
    "        return x"
   ]
  },
  {
   "cell_type": "code",
   "execution_count": 9,
   "id": "f5261efe-c249-4e43-8bc9-c192b8131eb5",
   "metadata": {},
   "outputs": [
    {
     "name": "stdout",
     "output_type": "stream",
     "text": [
      "torch.Size([64, 3, 28, 28])\n",
      "in: 2352\n",
      "out: 10\n"
     ]
    }
   ],
   "source": [
    "# Get the number of input features and output classes\n",
    "print(dls.one_batch()[0].shape)\n",
    "in_features = dls.one_batch()[0].shape[1] * dls.one_batch()[0].shape[2] * dls.one_batch()[0].shape[3]\n",
    "out_features = len(dls.vocab)\n",
    "print(\"in:\", in_features)\n",
    "print(\"out:\", out_features)\n",
    "\n",
    "# Initialize model\n",
    "device = torch.device(\"cuda:0\")\n",
    "model = SimpleModel(in_features, 128, 64, out_features).to(device)\n",
    "\n"
   ]
  },
  {
   "cell_type": "code",
   "execution_count": null,
   "id": "02fd4605-bd1b-4ec5-89bb-1b33a648224d",
   "metadata": {},
   "outputs": [
    {
     "data": {
      "text/html": [
       "\n",
       "<style>\n",
       "    /* Turns off some styling */\n",
       "    progress {\n",
       "        /* gets rid of default border in Firefox and Opera. */\n",
       "        border: none;\n",
       "        /* Needs to be in here for Safari polyfill so background images work as expected. */\n",
       "        background-size: auto;\n",
       "    }\n",
       "    progress:not([value]), progress:not([value])::-webkit-progress-bar {\n",
       "        background: repeating-linear-gradient(45deg, #7e7e7e, #7e7e7e 10px, #5c5c5c 10px, #5c5c5c 20px);\n",
       "    }\n",
       "    .progress-bar-interrupted, .progress-bar-interrupted::-webkit-progress-bar {\n",
       "        background: #F44336;\n",
       "    }\n",
       "</style>\n"
      ],
      "text/plain": [
       "<IPython.core.display.HTML object>"
      ]
     },
     "metadata": {},
     "output_type": "display_data"
    },
    {
     "data": {
      "text/html": [
       "\n",
       "    <div>\n",
       "      <progress value='1' class='' max='5' style='width:300px; height:20px; vertical-align: middle;'></progress>\n",
       "      20.00% [1/5 01:29&lt;05:59]\n",
       "    </div>\n",
       "    \n",
       "<table border=\"1\" class=\"dataframe\">\n",
       "  <thead>\n",
       "    <tr style=\"text-align: left;\">\n",
       "      <th>epoch</th>\n",
       "      <th>train_loss</th>\n",
       "      <th>valid_loss</th>\n",
       "      <th>accuracy</th>\n",
       "      <th>time</th>\n",
       "    </tr>\n",
       "  </thead>\n",
       "  <tbody>\n",
       "    <tr>\n",
       "      <td>0</td>\n",
       "      <td>0.246849</td>\n",
       "      <td>0.225618</td>\n",
       "      <td>0.934000</td>\n",
       "      <td>01:29</td>\n",
       "    </tr>\n",
       "  </tbody>\n",
       "</table><p>\n",
       "\n",
       "    <div>\n",
       "      <progress value='659' class='' max='937' style='width:300px; height:20px; vertical-align: middle;'></progress>\n",
       "      70.33% [659/937 00:40&lt;00:17 0.1381]\n",
       "    </div>\n",
       "    "
      ],
      "text/plain": [
       "<IPython.core.display.HTML object>"
      ]
     },
     "metadata": {},
     "output_type": "display_data"
    }
   ],
   "source": [
    "# Create fastai learner and train\n",
    "learn = Learner(dls, model, loss_func=F.cross_entropy, metrics=accuracy)\n",
    "learn.fit_one_cycle(5)"
   ]
  }
 ],
 "metadata": {
  "kernelspec": {
   "display_name": "Python 3 (ipykernel)",
   "language": "python",
   "name": "python3"
  },
  "language_info": {
   "codemirror_mode": {
    "name": "ipython",
    "version": 3
   },
   "file_extension": ".py",
   "mimetype": "text/x-python",
   "name": "python",
   "nbconvert_exporter": "python",
   "pygments_lexer": "ipython3",
   "version": "3.10.12"
  },
  "widgets": {
   "application/vnd.jupyter.widget-state+json": {
    "state": {},
    "version_major": 2,
    "version_minor": 0
   }
  }
 },
 "nbformat": 4,
 "nbformat_minor": 5
}
