{
 "cells": [
  {
   "cell_type": "markdown",
   "id": "d0e3e044-0b10-490d-ab8a-0e7b3847df58",
   "metadata": {},
   "source": [
    "# Reading, inspecting, cleaning up, saving tabular data\n",
    "\n",
    "I want to create ensembles of decision trees. It's of two key techniques in machine learning (the other being neural networks with stochastic gradient descent)."
   ]
  },
  {
   "cell_type": "code",
   "execution_count": 14,
   "id": "b5bfb070-4996-4daf-9505-8d66789e49fc",
   "metadata": {},
   "outputs": [
    {
     "name": "stdout",
     "output_type": "stream",
     "text": [
      "Downloading titanic.zip to /home/john/.fastai/archive/titanic\n"
     ]
    },
    {
     "name": "stderr",
     "output_type": "stream",
     "text": [
      "100%|██████████| 34.1k/34.1k [00:00<00:00, 68.1MB/s]"
     ]
    },
    {
     "name": "stdout",
     "output_type": "stream",
     "text": [
      "\n",
      "/home/john/.fastai/archive/titanic\n"
     ]
    },
    {
     "name": "stderr",
     "output_type": "stream",
     "text": [
      "\n"
     ]
    }
   ],
   "source": [
    "# First, let's find a dataset of tabular data.\n",
    "# I'll choose the titanic dataset from kaggle.\n",
    "import pathlib\n",
    "import fastbook\n",
    "import kaggle\n",
    "import shutil\n",
    "\n",
    "def get_kaggle_dataset(comp):\n",
    "    kaggle_api_credentials = pathlib.Path('~/.kaggle/kaggle.json').expanduser().read_text()\n",
    "    path = fastbook.URLs.path(comp)\n",
    "    if path.exists():\n",
    "        print(path, \"already exists.\")\n",
    "        return path\n",
    "    path.mkdir(parents=True)\n",
    "    kaggle.api.competition_download_cli(comp, path=path)\n",
    "    shutil.unpack_archive(str(path/f'{comp}.zip'), str(path))\n",
    "    return path\n",
    "    \n",
    "print(get_kaggle_dataset(\"titanic\"))\n"
   ]
  },
  {
   "cell_type": "code",
   "execution_count": 16,
   "id": "16fa90fb-7327-4ad2-9cd0-3cb956c98e96",
   "metadata": {},
   "outputs": [
    {
     "name": "stdout",
     "output_type": "stream",
     "text": [
      "/home/john/.fastai/archive/titanic already exists.\n",
      "[Path('/home/john/.fastai/archive/titanic/gender_submission.csv'), Path('/home/john/.fastai/archive/titanic/titanic.zip'), Path('/home/john/.fastai/archive/titanic/train.csv'), Path('/home/john/.fastai/archive/titanic/test.csv')]\n"
     ]
    }
   ],
   "source": [
    "path = get_kaggle_dataset(\"titanic\")\n",
    "print(path.ls())"
   ]
  },
  {
   "cell_type": "code",
   "execution_count": 18,
   "id": "52ce13ca-22a2-473a-befc-eb5bf3e91886",
   "metadata": {},
   "outputs": [],
   "source": [
    "# Load the training set with pandas and inspect it.\n",
    "import pandas as pd\n",
    "\n",
    "df = pd.read_csv(path/'train.csv', low_memory=False)"
   ]
  },
  {
   "cell_type": "code",
   "execution_count": 19,
   "id": "aec2a180-a8d4-43e0-ac3a-fc1e30f3c078",
   "metadata": {},
   "outputs": [
    {
     "data": {
      "text/plain": [
       "Index(['PassengerId', 'Survived', 'Pclass', 'Name', 'Sex', 'Age', 'SibSp',\n",
       "       'Parch', 'Ticket', 'Fare', 'Cabin', 'Embarked'],\n",
       "      dtype='object')"
      ]
     },
     "execution_count": 19,
     "metadata": {},
     "output_type": "execute_result"
    }
   ],
   "source": [
    "df.columns"
   ]
  },
  {
   "cell_type": "code",
   "execution_count": 23,
   "id": "8c3bd746-0c7e-4106-819a-67d82ef95963",
   "metadata": {},
   "outputs": [
    {
     "data": {
      "text/plain": [
       "[('PassengerId', 891),\n",
       " ('Survived', 2),\n",
       " ('Pclass', 3),\n",
       " ('Name', 891),\n",
       " ('Sex', 2),\n",
       " ('Age', 89),\n",
       " ('SibSp', 7),\n",
       " ('Parch', 7),\n",
       " ('Ticket', 681),\n",
       " ('Fare', 248),\n",
       " ('Cabin', 148),\n",
       " ('Embarked', 4)]"
      ]
     },
     "execution_count": 23,
     "metadata": {},
     "output_type": "execute_result"
    }
   ],
   "source": [
    "[ (col, len(df[col].unique())) for col in df.columns ]\n"
   ]
  },
  {
   "cell_type": "code",
   "execution_count": 24,
   "id": "ead9fb01-1d54-4c78-96b6-bfec18df30cf",
   "metadata": {},
   "outputs": [
    {
     "data": {
      "text/plain": [
       "[('Survived', array([0, 1])),\n",
       " ('Pclass', array([3, 1, 2])),\n",
       " ('Sex', array(['male', 'female'], dtype=object)),\n",
       " ('SibSp', array([1, 0, 3, 4, 2, 5, 8])),\n",
       " ('Parch', array([0, 1, 2, 5, 3, 4, 6])),\n",
       " ('Embarked', array(['S', 'C', 'Q', nan], dtype=object))]"
      ]
     },
     "execution_count": 24,
     "metadata": {},
     "output_type": "execute_result"
    }
   ],
   "source": [
    "[ (col, df[col].unique()) for col in df.columns if len(df[col].unique()) < 10 ]"
   ]
  },
  {
   "cell_type": "code",
   "execution_count": 62,
   "id": "d9e5e7a3-cd51-41e9-970f-593a71b92347",
   "metadata": {},
   "outputs": [
    {
     "name": "stdout",
     "output_type": "stream",
     "text": [
      "Class 3 male 0.14 (47 / 347)\n",
      "Class 1 male 0.37 (45 / 122)\n",
      "Class 2 male 0.16 (17 / 108)\n",
      "Class 3 female 0.50 (72 / 144)\n",
      "Class 1 female 0.97 (91 / 94)\n",
      "Class 2 female 0.92 (70 / 76)\n"
     ]
    }
   ],
   "source": [
    "# Q: How did sex and class affect rate of survival?\n",
    "\n",
    "for sex in df[\"Sex\"].unique():\n",
    "    for c in df[\"Pclass\"].unique():\n",
    "        rows = df.loc[(df[\"Sex\"] == sex) & (df[\"Pclass\"] == c)][\"Survived\"]\n",
    "        print(f\"Class {c}\", sex, f\"{(sum(rows)/len(rows)):.2f}\", f\"({sum(rows)} / {len(rows)})\")\n"
   ]
  },
  {
   "cell_type": "code",
   "execution_count": 104,
   "id": "85cfaf8f-b738-4051-bfb5-b2dd2e8602e6",
   "metadata": {},
   "outputs": [
    {
     "data": {
      "text/html": [
       "<div>\n",
       "<style scoped>\n",
       "    .dataframe tbody tr th:only-of-type {\n",
       "        vertical-align: middle;\n",
       "    }\n",
       "\n",
       "    .dataframe tbody tr th {\n",
       "        vertical-align: top;\n",
       "    }\n",
       "\n",
       "    .dataframe thead th {\n",
       "        text-align: right;\n",
       "    }\n",
       "</style>\n",
       "<table border=\"1\" class=\"dataframe\">\n",
       "  <thead>\n",
       "    <tr style=\"text-align: right;\">\n",
       "      <th></th>\n",
       "      <th>PassengerId</th>\n",
       "      <th>Survived</th>\n",
       "      <th>Pclass</th>\n",
       "      <th>Name</th>\n",
       "      <th>Sex</th>\n",
       "      <th>Age</th>\n",
       "      <th>SibSp</th>\n",
       "      <th>Parch</th>\n",
       "      <th>Ticket</th>\n",
       "      <th>Fare</th>\n",
       "      <th>Cabin</th>\n",
       "      <th>Embarked</th>\n",
       "    </tr>\n",
       "  </thead>\n",
       "  <tbody>\n",
       "    <tr>\n",
       "      <th>41</th>\n",
       "      <td>42</td>\n",
       "      <td>0</td>\n",
       "      <td>2</td>\n",
       "      <td>Turpin, Mrs. William John Robert (Dorothy Ann Wonnacott)</td>\n",
       "      <td>female</td>\n",
       "      <td>27.0</td>\n",
       "      <td>1</td>\n",
       "      <td>0</td>\n",
       "      <td>11668</td>\n",
       "      <td>21.0000</td>\n",
       "      <td>NaN</td>\n",
       "      <td>S</td>\n",
       "    </tr>\n",
       "    <tr>\n",
       "      <th>177</th>\n",
       "      <td>178</td>\n",
       "      <td>0</td>\n",
       "      <td>1</td>\n",
       "      <td>Isham, Miss. Ann Elizabeth</td>\n",
       "      <td>female</td>\n",
       "      <td>50.0</td>\n",
       "      <td>0</td>\n",
       "      <td>0</td>\n",
       "      <td>PC 17595</td>\n",
       "      <td>28.7125</td>\n",
       "      <td>C49</td>\n",
       "      <td>C</td>\n",
       "    </tr>\n",
       "    <tr>\n",
       "      <th>199</th>\n",
       "      <td>200</td>\n",
       "      <td>0</td>\n",
       "      <td>2</td>\n",
       "      <td>Yrois, Miss. Henriette (\"Mrs Harbeck\")</td>\n",
       "      <td>female</td>\n",
       "      <td>24.0</td>\n",
       "      <td>0</td>\n",
       "      <td>0</td>\n",
       "      <td>248747</td>\n",
       "      <td>13.0000</td>\n",
       "      <td>NaN</td>\n",
       "      <td>S</td>\n",
       "    </tr>\n",
       "    <tr>\n",
       "      <th>297</th>\n",
       "      <td>298</td>\n",
       "      <td>0</td>\n",
       "      <td>1</td>\n",
       "      <td>Allison, Miss. Helen Loraine</td>\n",
       "      <td>female</td>\n",
       "      <td>2.0</td>\n",
       "      <td>1</td>\n",
       "      <td>2</td>\n",
       "      <td>113781</td>\n",
       "      <td>151.5500</td>\n",
       "      <td>C22 C26</td>\n",
       "      <td>S</td>\n",
       "    </tr>\n",
       "    <tr>\n",
       "      <th>312</th>\n",
       "      <td>313</td>\n",
       "      <td>0</td>\n",
       "      <td>2</td>\n",
       "      <td>Lahtinen, Mrs. William (Anna Sylfven)</td>\n",
       "      <td>female</td>\n",
       "      <td>26.0</td>\n",
       "      <td>1</td>\n",
       "      <td>1</td>\n",
       "      <td>250651</td>\n",
       "      <td>26.0000</td>\n",
       "      <td>NaN</td>\n",
       "      <td>S</td>\n",
       "    </tr>\n",
       "    <tr>\n",
       "      <th>357</th>\n",
       "      <td>358</td>\n",
       "      <td>0</td>\n",
       "      <td>2</td>\n",
       "      <td>Funk, Miss. Annie Clemmer</td>\n",
       "      <td>female</td>\n",
       "      <td>38.0</td>\n",
       "      <td>0</td>\n",
       "      <td>0</td>\n",
       "      <td>237671</td>\n",
       "      <td>13.0000</td>\n",
       "      <td>NaN</td>\n",
       "      <td>S</td>\n",
       "    </tr>\n",
       "    <tr>\n",
       "      <th>498</th>\n",
       "      <td>499</td>\n",
       "      <td>0</td>\n",
       "      <td>1</td>\n",
       "      <td>Allison, Mrs. Hudson J C (Bessie Waldo Daniels)</td>\n",
       "      <td>female</td>\n",
       "      <td>25.0</td>\n",
       "      <td>1</td>\n",
       "      <td>2</td>\n",
       "      <td>113781</td>\n",
       "      <td>151.5500</td>\n",
       "      <td>C22 C26</td>\n",
       "      <td>S</td>\n",
       "    </tr>\n",
       "    <tr>\n",
       "      <th>772</th>\n",
       "      <td>773</td>\n",
       "      <td>0</td>\n",
       "      <td>2</td>\n",
       "      <td>Mack, Mrs. (Mary)</td>\n",
       "      <td>female</td>\n",
       "      <td>57.0</td>\n",
       "      <td>0</td>\n",
       "      <td>0</td>\n",
       "      <td>S.O./P.P. 3</td>\n",
       "      <td>10.5000</td>\n",
       "      <td>E77</td>\n",
       "      <td>S</td>\n",
       "    </tr>\n",
       "    <tr>\n",
       "      <th>854</th>\n",
       "      <td>855</td>\n",
       "      <td>0</td>\n",
       "      <td>2</td>\n",
       "      <td>Carter, Mrs. Ernest Courtenay (Lilian Hughes)</td>\n",
       "      <td>female</td>\n",
       "      <td>44.0</td>\n",
       "      <td>1</td>\n",
       "      <td>0</td>\n",
       "      <td>244252</td>\n",
       "      <td>26.0000</td>\n",
       "      <td>NaN</td>\n",
       "      <td>S</td>\n",
       "    </tr>\n",
       "  </tbody>\n",
       "</table>\n",
       "</div>"
      ],
      "text/plain": [
       "     PassengerId  Survived  Pclass  \\\n",
       "41            42         0       2   \n",
       "177          178         0       1   \n",
       "199          200         0       2   \n",
       "297          298         0       1   \n",
       "312          313         0       2   \n",
       "357          358         0       2   \n",
       "498          499         0       1   \n",
       "772          773         0       2   \n",
       "854          855         0       2   \n",
       "\n",
       "                                                         Name     Sex   Age  \\\n",
       "41   Turpin, Mrs. William John Robert (Dorothy Ann Wonnacott)  female  27.0   \n",
       "177                                Isham, Miss. Ann Elizabeth  female  50.0   \n",
       "199                    Yrois, Miss. Henriette (\"Mrs Harbeck\")  female  24.0   \n",
       "297                              Allison, Miss. Helen Loraine  female   2.0   \n",
       "312                     Lahtinen, Mrs. William (Anna Sylfven)  female  26.0   \n",
       "357                                 Funk, Miss. Annie Clemmer  female  38.0   \n",
       "498           Allison, Mrs. Hudson J C (Bessie Waldo Daniels)  female  25.0   \n",
       "772                                         Mack, Mrs. (Mary)  female  57.0   \n",
       "854             Carter, Mrs. Ernest Courtenay (Lilian Hughes)  female  44.0   \n",
       "\n",
       "     SibSp  Parch       Ticket      Fare    Cabin Embarked  \n",
       "41       1      0        11668   21.0000      NaN        S  \n",
       "177      0      0     PC 17595   28.7125      C49        C  \n",
       "199      0      0       248747   13.0000      NaN        S  \n",
       "297      1      2       113781  151.5500  C22 C26        S  \n",
       "312      1      1       250651   26.0000      NaN        S  \n",
       "357      0      0       237671   13.0000      NaN        S  \n",
       "498      1      2       113781  151.5500  C22 C26        S  \n",
       "772      0      0  S.O./P.P. 3   10.5000      E77        S  \n",
       "854      1      0       244252   26.0000      NaN        S  "
      ]
     },
     "execution_count": 104,
     "metadata": {},
     "output_type": "execute_result"
    }
   ],
   "source": [
    "# Over 90% of class 1 & class 2 females survived. Which didn't?\n",
    "rows = df.loc[ (df[\"Sex\"] == \"female\") & (df[\"Pclass\"] < 3)]\n",
    "rows.loc[ rows[\"Survived\"] == 0 ]"
   ]
  },
  {
   "cell_type": "code",
   "execution_count": 105,
   "id": "287561a1-0099-483e-bdb8-d224489c317e",
   "metadata": {},
   "outputs": [
    {
     "name": "stdout",
     "output_type": "stream",
     "text": [
      "Survived all: 0.38 (342/891)\n",
      "Survived  na: 0.30 (206/687)\n",
      "Survived   s: 0.34 (217/644)\n",
      "\n",
      "na:  0.78\n",
      "s:  0.88 \n"
     ]
    }
   ],
   "source": [
    "# Observation: 5/9 had NaN cabin. Almost all Embarked from S. Are these meaningful?\n",
    "survived = len(df.loc[df[\"Survived\"] == 1])\n",
    "rate_all = survived / len(df)\n",
    "\n",
    "na = df.loc[df['Cabin'].isna()]\n",
    "na_survived = len(na.loc[na[\"Survived\"] == 1]) \n",
    "rate_na = na_survived / len(na)\n",
    "\n",
    "s = df.loc[df['Embarked'] == \"S\"]\n",
    "s_survived = len(s.loc[s[\"Survived\"] == 1])\n",
    "rate_s = s_survived / len(s)\n",
    "\n",
    "print(f\"Survived all: {rate_all:.2f} ({survived}/{len(df)})\")\n",
    "print(f\"Survived  na: {rate_na:.2f} ({na_survived}/{len(na)})\")\n",
    "print(f\"Survived   s: {rate_s:.2f} ({s_survived}/{len(s)})\")\n",
    "\n",
    "print()\n",
    "print(f\"na: {rate_na / rate_all : .2f}\")\n",
    "print(f\"s: {rate_s / rate_all: .2f} \")\n",
    "\n",
    "# Lower rate of survival for \"NA\" cabins and for \"S\" embarkations than for overall population"
   ]
  },
  {
   "cell_type": "code",
   "execution_count": 108,
   "id": "30ceff2f-0aec-4906-81fd-85d5feaebcd7",
   "metadata": {},
   "outputs": [
    {
     "name": "stdout",
     "output_type": "stream",
     "text": [
      "             PassengerId  Survived    Pclass       Age     SibSp     Parch  \\\n",
      "PassengerId     1.000000 -0.005007 -0.035144  0.036847 -0.057527 -0.001652   \n",
      "Survived       -0.005007  1.000000 -0.338481 -0.077221 -0.035322  0.081629   \n",
      "Pclass         -0.035144 -0.338481  1.000000 -0.369226  0.083081  0.018443   \n",
      "Age             0.036847 -0.077221 -0.369226  1.000000 -0.308247 -0.189119   \n",
      "SibSp          -0.057527 -0.035322  0.083081 -0.308247  1.000000  0.414838   \n",
      "Parch          -0.001652  0.081629  0.018443 -0.189119  0.414838  1.000000   \n",
      "Fare            0.012658  0.257307 -0.549500  0.096067  0.159651  0.216225   \n",
      "\n",
      "                 Fare  \n",
      "PassengerId  0.012658  \n",
      "Survived     0.257307  \n",
      "Pclass      -0.549500  \n",
      "Age          0.096067  \n",
      "SibSp        0.159651  \n",
      "Parch        0.216225  \n",
      "Fare         1.000000  \n"
     ]
    }
   ],
   "source": [
    "import numpy as np \n",
    "# Filter only numeric columns\n",
    "numeric_df = df.select_dtypes(include=[np.number])\n",
    "\n",
    "# Compute the correlation matrix\n",
    "correlation_matrix = numeric_df.corr()\n",
    "print(correlation_matrix)\n"
   ]
  },
  {
   "cell_type": "code",
   "execution_count": 110,
   "id": "b5b7aaa7-c0d8-44b0-922c-b16dc16d6d1e",
   "metadata": {},
   "outputs": [
    {
     "name": "stdout",
     "output_type": "stream",
     "text": [
      "Defaulting to user installation because normal site-packages is not writeable\n",
      "Collecting seaborn\n",
      "  Obtaining dependency information for seaborn from https://files.pythonhosted.org/packages/7b/e5/83fcd7e9db036c179e0352bfcd20f81d728197a16f883e7b90307a88e65e/seaborn-0.13.0-py3-none-any.whl.metadata\n",
      "  Downloading seaborn-0.13.0-py3-none-any.whl.metadata (5.3 kB)\n",
      "Requirement already satisfied: numpy!=1.24.0,>=1.20 in /home/john/.local/lib/python3.10/site-packages (from seaborn) (1.26.0)\n",
      "Requirement already satisfied: pandas>=1.2 in /home/john/.local/lib/python3.10/site-packages (from seaborn) (2.1.1)\n",
      "Requirement already satisfied: matplotlib!=3.6.1,>=3.3 in /home/john/.local/lib/python3.10/site-packages (from seaborn) (3.8.0)\n",
      "Requirement already satisfied: contourpy>=1.0.1 in /home/john/.local/lib/python3.10/site-packages (from matplotlib!=3.6.1,>=3.3->seaborn) (1.1.1)\n",
      "Requirement already satisfied: cycler>=0.10 in /home/john/.local/lib/python3.10/site-packages (from matplotlib!=3.6.1,>=3.3->seaborn) (0.12.0)\n",
      "Requirement already satisfied: fonttools>=4.22.0 in /home/john/.local/lib/python3.10/site-packages (from matplotlib!=3.6.1,>=3.3->seaborn) (4.43.1)\n",
      "Requirement already satisfied: kiwisolver>=1.0.1 in /home/john/.local/lib/python3.10/site-packages (from matplotlib!=3.6.1,>=3.3->seaborn) (1.4.5)\n",
      "Requirement already satisfied: packaging>=20.0 in /home/john/.local/lib/python3.10/site-packages (from matplotlib!=3.6.1,>=3.3->seaborn) (23.1)\n",
      "Requirement already satisfied: pillow>=6.2.0 in /home/john/.local/lib/python3.10/site-packages (from matplotlib!=3.6.1,>=3.3->seaborn) (10.0.1)\n",
      "Requirement already satisfied: pyparsing>=2.3.1 in /usr/lib/python3/dist-packages (from matplotlib!=3.6.1,>=3.3->seaborn) (2.4.7)\n",
      "Requirement already satisfied: python-dateutil>=2.7 in /home/john/.local/lib/python3.10/site-packages (from matplotlib!=3.6.1,>=3.3->seaborn) (2.8.2)\n",
      "Requirement already satisfied: pytz>=2020.1 in /usr/lib/python3/dist-packages (from pandas>=1.2->seaborn) (2022.1)\n",
      "Requirement already satisfied: tzdata>=2022.1 in /home/john/.local/lib/python3.10/site-packages (from pandas>=1.2->seaborn) (2023.3)\n",
      "Requirement already satisfied: six>=1.5 in /usr/lib/python3/dist-packages (from python-dateutil>=2.7->matplotlib!=3.6.1,>=3.3->seaborn) (1.16.0)\n",
      "Downloading seaborn-0.13.0-py3-none-any.whl (294 kB)\n",
      "\u001b[2K   \u001b[90m━━━━━━━━━━━━━━━━━━━━━━━━━━━━━━━━━━━━━━━━\u001b[0m \u001b[32m294.6/294.6 kB\u001b[0m \u001b[31m3.0 MB/s\u001b[0m eta \u001b[36m0:00:00\u001b[0ma \u001b[36m0:00:01\u001b[0m\n",
      "\u001b[?25hInstalling collected packages: seaborn\n",
      "Successfully installed seaborn-0.13.0\n"
     ]
    }
   ],
   "source": [
    "!pip install seaborn"
   ]
  },
  {
   "cell_type": "code",
   "execution_count": 111,
   "id": "4266f048-56ab-4bc5-ab87-33f78822f3c9",
   "metadata": {},
   "outputs": [
    {
     "data": {
      "image/png": "[encoded data removed]",
      "text/plain": [
       "<Figure size 640x480 with 2 Axes>"
      ]
     },
     "metadata": {},
     "output_type": "display_data"
    }
   ],
   "source": [
    "import seaborn as sns\n",
    "import matplotlib.pyplot as plt\n",
    "\n",
    "sns.heatmap(correlation_matrix, annot=True)\n",
    "plt.show()\n"
   ]
  },
  {
   "cell_type": "markdown",
   "id": "85a0f1b7-9f99-4e94-8820-fb70919269fa",
   "metadata": {},
   "source": [
    "In order to calculate a correlation matrix, I needed to ignore non-numerical columns.\n",
    "However, this has some problems. For example,\n",
    "\n",
    "- It ignores the \"Sex\" category which our earlier analysis clearly showed to be highly correlated with survival.\n",
    "- It treats the categorical variable \"Pclass\" as a continuous variable, likely leading to a misdiagnosis.\n",
    "\n",
    "To solve for these problems, I'll replace \"Sex\" and \"Pclass\" with \"Male\" and (\"Class 1\", \"Class 2\"), respectively. In other words, I'll create one-hot encodings for them."
   ]
  },
  {
   "cell_type": "code",
   "execution_count": 113,
   "id": "5fe5db7c-53b1-4ede-b6aa-7e8041733f77",
   "metadata": {},
   "outputs": [
    {
     "data": {
      "text/plain": [
       "Index(['PassengerId', 'Survived', 'Pclass', 'Name', 'Sex', 'Age', 'SibSp',\n",
       "       'Parch', 'Ticket', 'Fare', 'Cabin', 'Embarked'],\n",
       "      dtype='object')"
      ]
     },
     "execution_count": 113,
     "metadata": {},
     "output_type": "execute_result"
    }
   ],
   "source": [
    "df.columns"
   ]
  },
  {
   "cell_type": "markdown",
   "id": "d55dd6cb-fce9-45b9-afbb-fd840d193ec4",
   "metadata": {},
   "source": [
    "I'll also want to consider whether Ticket, Cabin, and Embarked are meaningful categories that should be included."
   ]
  },
  {
   "cell_type": "code",
   "execution_count": null,
   "id": "07adc2d6-dce3-480a-aef1-8210c35b614d",
   "metadata": {},
   "outputs": [],
   "source": []
  }
 ],
 "metadata": {
  "kernelspec": {
   "display_name": "Python 3 (ipykernel)",
   "language": "python",
   "name": "python3"
  },
  "language_info": {
   "codemirror_mode": {
    "name": "ipython",
    "version": 3
   },
   "file_extension": ".py",
   "mimetype": "text/x-python",
   "name": "python",
   "nbconvert_exporter": "python",
   "pygments_lexer": "ipython3",
   "version": "3.10.12"
  }
 },
 "nbformat": 4,
 "nbformat_minor": 5
}
