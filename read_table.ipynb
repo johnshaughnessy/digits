{
 "cells": [
  {
   "cell_type": "markdown",
   "id": "d0e3e044-0b10-490d-ab8a-0e7b3847df58",
   "metadata": {},
   "source": [
    "# Reading, inspecting, cleaning up, saving tabular data\n",
    "\n",
    "I want to create ensembles of decision trees. It's of two key techniques in machine learning (the other being neural networks with stochastic gradient descent)."
   ]
  },
  {
   "cell_type": "code",
   "execution_count": 14,
   "id": "b5bfb070-4996-4daf-9505-8d66789e49fc",
   "metadata": {},
   "outputs": [
    {
     "name": "stdout",
     "output_type": "stream",
     "text": [
      "Downloading titanic.zip to /home/john/.fastai/archive/titanic\n"
     ]
    },
    {
     "name": "stderr",
     "output_type": "stream",
     "text": [
      "100%|██████████| 34.1k/34.1k [00:00<00:00, 68.1MB/s]"
     ]
    },
    {
     "name": "stdout",
     "output_type": "stream",
     "text": [
      "\n",
      "/home/john/.fastai/archive/titanic\n"
     ]
    },
    {
     "name": "stderr",
     "output_type": "stream",
     "text": [
      "\n"
     ]
    }
   ],
   "source": [
    "# First, let's find a dataset of tabular data.\n",
    "# I'll choose the titanic dataset from kaggle.\n",
    "import pathlib\n",
    "import fastbook\n",
    "import kaggle\n",
    "import shutil\n",
    "\n",
    "def get_kaggle_dataset(comp):\n",
    "    kaggle_api_credentials = pathlib.Path('~/.kaggle/kaggle.json').expanduser().read_text()\n",
    "    path = fastbook.URLs.path(comp)\n",
    "    if path.exists():\n",
    "        print(path, \"already exists.\")\n",
    "        return path\n",
    "    path.mkdir(parents=True)\n",
    "    kaggle.api.competition_download_cli(comp, path=path)\n",
    "    shutil.unpack_archive(str(path/f'{comp}.zip'), str(path))\n",
    "    return path\n",
    "    \n",
    "print(get_kaggle_dataset(\"titanic\"))\n"
   ]
  },
  {
   "cell_type": "code",
   "execution_count": 16,
   "id": "16fa90fb-7327-4ad2-9cd0-3cb956c98e96",
   "metadata": {},
   "outputs": [
    {
     "name": "stdout",
     "output_type": "stream",
     "text": [
      "/home/john/.fastai/archive/titanic already exists.\n",
      "[Path('/home/john/.fastai/archive/titanic/gender_submission.csv'), Path('/home/john/.fastai/archive/titanic/titanic.zip'), Path('/home/john/.fastai/archive/titanic/train.csv'), Path('/home/john/.fastai/archive/titanic/test.csv')]\n"
     ]
    }
   ],
   "source": [
    "path = get_kaggle_dataset(\"titanic\")\n",
    "print(path.ls())"
   ]
  },
  {
   "cell_type": "code",
   "execution_count": 18,
   "id": "52ce13ca-22a2-473a-befc-eb5bf3e91886",
   "metadata": {},
   "outputs": [],
   "source": [
    "# Load the training set with pandas and inspect it.\n",
    "import pandas as pd\n",
    "\n",
    "df = pd.read_csv(path/'train.csv', low_memory=False)"
   ]
  },
  {
   "cell_type": "code",
   "execution_count": 19,
   "id": "aec2a180-a8d4-43e0-ac3a-fc1e30f3c078",
   "metadata": {},
   "outputs": [
    {
     "data": {
      "text/plain": [
       "Index(['PassengerId', 'Survived', 'Pclass', 'Name', 'Sex', 'Age', 'SibSp',\n",
       "       'Parch', 'Ticket', 'Fare', 'Cabin', 'Embarked'],\n",
       "      dtype='object')"
      ]
     },
     "execution_count": 19,
     "metadata": {},
     "output_type": "execute_result"
    }
   ],
   "source": [
    "df.columns"
   ]
  },
  {
   "cell_type": "code",
   "execution_count": 23,
   "id": "8c3bd746-0c7e-4106-819a-67d82ef95963",
   "metadata": {},
   "outputs": [
    {
     "data": {
      "text/plain": [
       "[('PassengerId', 891),\n",
       " ('Survived', 2),\n",
       " ('Pclass', 3),\n",
       " ('Name', 891),\n",
       " ('Sex', 2),\n",
       " ('Age', 89),\n",
       " ('SibSp', 7),\n",
       " ('Parch', 7),\n",
       " ('Ticket', 681),\n",
       " ('Fare', 248),\n",
       " ('Cabin', 148),\n",
       " ('Embarked', 4)]"
      ]
     },
     "execution_count": 23,
     "metadata": {},
     "output_type": "execute_result"
    }
   ],
   "source": [
    "[ (col, len(df[col].unique())) for col in df.columns ]\n"
   ]
  },
  {
   "cell_type": "code",
   "execution_count": 24,
   "id": "ead9fb01-1d54-4c78-96b6-bfec18df30cf",
   "metadata": {},
   "outputs": [
    {
     "data": {
      "text/plain": [
       "[('Survived', array([0, 1])),\n",
       " ('Pclass', array([3, 1, 2])),\n",
       " ('Sex', array(['male', 'female'], dtype=object)),\n",
       " ('SibSp', array([1, 0, 3, 4, 2, 5, 8])),\n",
       " ('Parch', array([0, 1, 2, 5, 3, 4, 6])),\n",
       " ('Embarked', array(['S', 'C', 'Q', nan], dtype=object))]"
      ]
     },
     "execution_count": 24,
     "metadata": {},
     "output_type": "execute_result"
    }
   ],
   "source": [
    "[ (col, df[col].unique()) for col in df.columns if len(df[col].unique()) < 10 ]"
   ]
  },
  {
   "cell_type": "code",
   "execution_count": null,
   "id": "d9e5e7a3-cd51-41e9-970f-593a71b92347",
   "metadata": {},
   "outputs": [],
   "source": []
  },
  {
   "cell_type": "code",
   "execution_count": null,
   "id": "e56c68d8-1c58-4b16-a392-9813ea507eb1",
   "metadata": {},
   "outputs": [],
   "source": []
  },
  {
   "cell_type": "code",
   "execution_count": null,
   "id": "4266f048-56ab-4bc5-ab87-33f78822f3c9",
   "metadata": {},
   "outputs": [],
   "source": []
  }
 ],
 "metadata": {
  "kernelspec": {
   "display_name": "Python 3 (ipykernel)",
   "language": "python",
   "name": "python3"
  },
  "language_info": {
   "codemirror_mode": {
    "name": "ipython",
    "version": 3
   },
   "file_extension": ".py",
   "mimetype": "text/x-python",
   "name": "python",
   "nbconvert_exporter": "python",
   "pygments_lexer": "ipython3",
   "version": "3.10.12"
  }
 },
 "nbformat": 4,
 "nbformat_minor": 5
}
