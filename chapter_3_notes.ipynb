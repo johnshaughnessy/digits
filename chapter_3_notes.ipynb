{
 "cells": [
  {
   "cell_type": "markdown",
   "id": "c1f4cbd7-e836-4b8a-896b-76441bb07534",
   "metadata": {},
   "source": [
    "# Chapter 3 Notes\n",
    "## Examples\n",
    "- IBM sold to Nazis. Provided on-site maintenance at concentration camps.\n",
    "- Youtube recommends conspiracy content.\n",
    "\n",
    "## Types of Bias\n",
    "| Bias           | Definition                                      | Example                        |\n",
    "|----------------|-------------------------------------------------|--------------------------------|\n",
    "| Historical     | People, processes, society is (already) biased. | Bail recommendation system     |\n",
    "| Representation | Models amplify imbalances in training sets.     | Gendered profession data       |\n",
    "| Measurement    | Measuring the wrong thing, or in the wrong way  | False predictors of stroke     |\n",
    "| Aggregation    | Missing important variables                     | Diabetes diagnosis & treatment |\n",
    "| Evaluation     |                                                 |                                |\n",
    "| Deployment     |                                                 |                                |\n",
    "\n"
   ]
  },
  {
   "cell_type": "markdown",
   "id": "e573a9b9-287a-40d3-b25e-0cce63d043d5",
   "metadata": {},
   "source": []
  }
 ],
 "metadata": {
  "kernelspec": {
   "display_name": "Python 3 (ipykernel)",
   "language": "python",
   "name": "python3"
  },
  "language_info": {
   "codemirror_mode": {
    "name": "ipython",
    "version": 3
   },
   "file_extension": ".py",
   "mimetype": "text/x-python",
   "name": "python",
   "nbconvert_exporter": "python",
   "pygments_lexer": "ipython3",
   "version": "3.10.12"
  },
  "widgets": {
   "application/vnd.jupyter.widget-state+json": {
    "state": {},
    "version_major": 2,
    "version_minor": 0
   }
  }
 },
 "nbformat": 4,
 "nbformat_minor": 5
}
